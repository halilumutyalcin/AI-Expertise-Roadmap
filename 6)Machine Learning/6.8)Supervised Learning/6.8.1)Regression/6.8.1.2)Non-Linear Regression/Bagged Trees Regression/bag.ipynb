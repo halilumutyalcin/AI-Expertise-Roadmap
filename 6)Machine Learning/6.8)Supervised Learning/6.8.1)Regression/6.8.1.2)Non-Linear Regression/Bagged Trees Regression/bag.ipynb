{
 "cells": [
  {
   "cell_type": "code",
   "execution_count": 1,
   "outputs": [],
   "source": [
    "import numpy as np\n",
    "import pandas as pd\n",
    "from sklearn.model_selection import GridSearchCV\n",
    "from sklearn.metrics import mean_squared_error\n",
    "from sklearn.ensemble import BaggingRegressor\n",
    "\n",
    "from warnings import filterwarnings\n",
    "filterwarnings('ignore')"
   ],
   "metadata": {
    "collapsed": false,
    "pycharm": {
     "name": "#%%\n"
    }
   }
  },
  {
   "cell_type": "code",
   "execution_count": 2,
   "outputs": [
    {
     "data": {
      "text/plain": "   AtBat  Hits  HmRun  Runs  RBI  Walks  Years  CAtBat  CHits  CHmRun  CRuns  \\\n1    315    81      7    24   38     39     14    3449    835      69    321   \n2    479   130     18    66   72     76      3    1624    457      63    224   \n3    496   141     20    65   78     37     11    5628   1575     225    828   \n4    321    87     10    39   42     30      2     396    101      12     48   \n5    594   169      4    74   51     35     11    4408   1133      19    501   \n\n   CRBI  CWalks League Division  PutOuts  Assists  Errors  Salary NewLeague  \n1   414     375      N        W      632       43      10   475.0         N  \n2   266     263      A        W      880       82      14   480.0         A  \n3   838     354      N        E      200       11       3   500.0         N  \n4    46      33      N        E      805       40       4    91.5         N  \n5   336     194      A        W      282      421      25   750.0         A  ",
      "text/html": "<div>\n<style scoped>\n    .dataframe tbody tr th:only-of-type {\n        vertical-align: middle;\n    }\n\n    .dataframe tbody tr th {\n        vertical-align: top;\n    }\n\n    .dataframe thead th {\n        text-align: right;\n    }\n</style>\n<table border=\"1\" class=\"dataframe\">\n  <thead>\n    <tr style=\"text-align: right;\">\n      <th></th>\n      <th>AtBat</th>\n      <th>Hits</th>\n      <th>HmRun</th>\n      <th>Runs</th>\n      <th>RBI</th>\n      <th>Walks</th>\n      <th>Years</th>\n      <th>CAtBat</th>\n      <th>CHits</th>\n      <th>CHmRun</th>\n      <th>CRuns</th>\n      <th>CRBI</th>\n      <th>CWalks</th>\n      <th>League</th>\n      <th>Division</th>\n      <th>PutOuts</th>\n      <th>Assists</th>\n      <th>Errors</th>\n      <th>Salary</th>\n      <th>NewLeague</th>\n    </tr>\n  </thead>\n  <tbody>\n    <tr>\n      <th>1</th>\n      <td>315</td>\n      <td>81</td>\n      <td>7</td>\n      <td>24</td>\n      <td>38</td>\n      <td>39</td>\n      <td>14</td>\n      <td>3449</td>\n      <td>835</td>\n      <td>69</td>\n      <td>321</td>\n      <td>414</td>\n      <td>375</td>\n      <td>N</td>\n      <td>W</td>\n      <td>632</td>\n      <td>43</td>\n      <td>10</td>\n      <td>475.0</td>\n      <td>N</td>\n    </tr>\n    <tr>\n      <th>2</th>\n      <td>479</td>\n      <td>130</td>\n      <td>18</td>\n      <td>66</td>\n      <td>72</td>\n      <td>76</td>\n      <td>3</td>\n      <td>1624</td>\n      <td>457</td>\n      <td>63</td>\n      <td>224</td>\n      <td>266</td>\n      <td>263</td>\n      <td>A</td>\n      <td>W</td>\n      <td>880</td>\n      <td>82</td>\n      <td>14</td>\n      <td>480.0</td>\n      <td>A</td>\n    </tr>\n    <tr>\n      <th>3</th>\n      <td>496</td>\n      <td>141</td>\n      <td>20</td>\n      <td>65</td>\n      <td>78</td>\n      <td>37</td>\n      <td>11</td>\n      <td>5628</td>\n      <td>1575</td>\n      <td>225</td>\n      <td>828</td>\n      <td>838</td>\n      <td>354</td>\n      <td>N</td>\n      <td>E</td>\n      <td>200</td>\n      <td>11</td>\n      <td>3</td>\n      <td>500.0</td>\n      <td>N</td>\n    </tr>\n    <tr>\n      <th>4</th>\n      <td>321</td>\n      <td>87</td>\n      <td>10</td>\n      <td>39</td>\n      <td>42</td>\n      <td>30</td>\n      <td>2</td>\n      <td>396</td>\n      <td>101</td>\n      <td>12</td>\n      <td>48</td>\n      <td>46</td>\n      <td>33</td>\n      <td>N</td>\n      <td>E</td>\n      <td>805</td>\n      <td>40</td>\n      <td>4</td>\n      <td>91.5</td>\n      <td>N</td>\n    </tr>\n    <tr>\n      <th>5</th>\n      <td>594</td>\n      <td>169</td>\n      <td>4</td>\n      <td>74</td>\n      <td>51</td>\n      <td>35</td>\n      <td>11</td>\n      <td>4408</td>\n      <td>1133</td>\n      <td>19</td>\n      <td>501</td>\n      <td>336</td>\n      <td>194</td>\n      <td>A</td>\n      <td>W</td>\n      <td>282</td>\n      <td>421</td>\n      <td>25</td>\n      <td>750.0</td>\n      <td>A</td>\n    </tr>\n  </tbody>\n</table>\n</div>"
     },
     "execution_count": 2,
     "metadata": {},
     "output_type": "execute_result"
    }
   ],
   "source": [
    "data = pd.read_csv(\"../Data/Hitters.csv\")\n",
    "df = data.copy()\n",
    "df = df.dropna()\n",
    "df.head()"
   ],
   "metadata": {
    "collapsed": false,
    "pycharm": {
     "name": "#%%\n"
    }
   }
  },
  {
   "cell_type": "raw",
   "source": [
    "Bagged tree regression is a type of ensemble learning method that combines the predictions of multiple decision tree models to make more accurate predictions. In this method, a decision tree model is trained on a randomly selected subset of the training data, and the process is repeated multiple times to create multiple decision tree models. The predictions of these models are then averaged to produce the final prediction.\n",
    "\n",
    "Bagged tree regression is particularly useful in cases where the training data has high variance, meaning that small changes in the data can result in large changes in the model's predictions. By training multiple decision tree models on different subsets of the data and averaging their predictions, bagged tree regression can reduce the variance of the model and improve its accuracy.\n",
    "\n",
    "In addition to reducing variance, bagged tree regression can also improve the model's ability to generalize to new data. By training multiple decision tree models on different subsets of the data, the model can better capture the underlying structure of the data and make more accurate predictions on new data points.\n",
    "\n",
    "Overall, bagged tree regression is a powerful tool for improving the accuracy and generalizability of decision tree models in cases where the training data has high variance or when the model needs to be able to generalize well to new data."
   ],
   "metadata": {
    "collapsed": false,
    "pycharm": {
     "name": "#%% raw\n"
    }
   }
  },
  {
   "cell_type": "code",
   "execution_count": 10,
   "outputs": [
    {
     "data": {
      "text/plain": "   League_A  League_N  Division_E  Division_W  NewLeague_A  NewLeague_N\n1         0         1           0           1            0            1\n2         1         0           0           1            1            0\n3         0         1           1           0            0            1\n4         0         1           1           0            0            1\n5         1         0           0           1            1            0",
      "text/html": "<div>\n<style scoped>\n    .dataframe tbody tr th:only-of-type {\n        vertical-align: middle;\n    }\n\n    .dataframe tbody tr th {\n        vertical-align: top;\n    }\n\n    .dataframe thead th {\n        text-align: right;\n    }\n</style>\n<table border=\"1\" class=\"dataframe\">\n  <thead>\n    <tr style=\"text-align: right;\">\n      <th></th>\n      <th>League_A</th>\n      <th>League_N</th>\n      <th>Division_E</th>\n      <th>Division_W</th>\n      <th>NewLeague_A</th>\n      <th>NewLeague_N</th>\n    </tr>\n  </thead>\n  <tbody>\n    <tr>\n      <th>1</th>\n      <td>0</td>\n      <td>1</td>\n      <td>0</td>\n      <td>1</td>\n      <td>0</td>\n      <td>1</td>\n    </tr>\n    <tr>\n      <th>2</th>\n      <td>1</td>\n      <td>0</td>\n      <td>0</td>\n      <td>1</td>\n      <td>1</td>\n      <td>0</td>\n    </tr>\n    <tr>\n      <th>3</th>\n      <td>0</td>\n      <td>1</td>\n      <td>1</td>\n      <td>0</td>\n      <td>0</td>\n      <td>1</td>\n    </tr>\n    <tr>\n      <th>4</th>\n      <td>0</td>\n      <td>1</td>\n      <td>1</td>\n      <td>0</td>\n      <td>0</td>\n      <td>1</td>\n    </tr>\n    <tr>\n      <th>5</th>\n      <td>1</td>\n      <td>0</td>\n      <td>0</td>\n      <td>1</td>\n      <td>1</td>\n      <td>0</td>\n    </tr>\n  </tbody>\n</table>\n</div>"
     },
     "execution_count": 10,
     "metadata": {},
     "output_type": "execute_result"
    }
   ],
   "source": [
    "dms = pd.get_dummies(df[['League', 'Division', 'NewLeague']])\n",
    "dms.head()"
   ],
   "metadata": {
    "collapsed": false,
    "pycharm": {
     "name": "#%%\n"
    }
   }
  },
  {
   "cell_type": "code",
   "execution_count": 4,
   "outputs": [],
   "source": [
    "X_ = df.drop([\"Salary\",\"League\",\"Division\",\"NewLeague\"],axis = 1).astype(\"float64\")"
   ],
   "metadata": {
    "collapsed": false,
    "pycharm": {
     "name": "#%%\n"
    }
   }
  },
  {
   "cell_type": "code",
   "execution_count": 5,
   "outputs": [],
   "source": [
    "y = df[\"Salary\"]"
   ],
   "metadata": {
    "collapsed": false,
    "pycharm": {
     "name": "#%%\n"
    }
   }
  },
  {
   "cell_type": "code",
   "execution_count": 6,
   "outputs": [
    {
     "data": {
      "text/plain": "   AtBat   Hits  HmRun  Runs   RBI  Walks  Years  CAtBat   CHits  CHmRun  \\\n1  315.0   81.0    7.0  24.0  38.0   39.0   14.0  3449.0   835.0    69.0   \n2  479.0  130.0   18.0  66.0  72.0   76.0    3.0  1624.0   457.0    63.0   \n3  496.0  141.0   20.0  65.0  78.0   37.0   11.0  5628.0  1575.0   225.0   \n4  321.0   87.0   10.0  39.0  42.0   30.0    2.0   396.0   101.0    12.0   \n5  594.0  169.0    4.0  74.0  51.0   35.0   11.0  4408.0  1133.0    19.0   \n\n   CRuns   CRBI  CWalks  PutOuts  Assists  Errors  \n1  321.0  414.0   375.0    632.0     43.0    10.0  \n2  224.0  266.0   263.0    880.0     82.0    14.0  \n3  828.0  838.0   354.0    200.0     11.0     3.0  \n4   48.0   46.0    33.0    805.0     40.0     4.0  \n5  501.0  336.0   194.0    282.0    421.0    25.0  ",
      "text/html": "<div>\n<style scoped>\n    .dataframe tbody tr th:only-of-type {\n        vertical-align: middle;\n    }\n\n    .dataframe tbody tr th {\n        vertical-align: top;\n    }\n\n    .dataframe thead th {\n        text-align: right;\n    }\n</style>\n<table border=\"1\" class=\"dataframe\">\n  <thead>\n    <tr style=\"text-align: right;\">\n      <th></th>\n      <th>AtBat</th>\n      <th>Hits</th>\n      <th>HmRun</th>\n      <th>Runs</th>\n      <th>RBI</th>\n      <th>Walks</th>\n      <th>Years</th>\n      <th>CAtBat</th>\n      <th>CHits</th>\n      <th>CHmRun</th>\n      <th>CRuns</th>\n      <th>CRBI</th>\n      <th>CWalks</th>\n      <th>PutOuts</th>\n      <th>Assists</th>\n      <th>Errors</th>\n    </tr>\n  </thead>\n  <tbody>\n    <tr>\n      <th>1</th>\n      <td>315.0</td>\n      <td>81.0</td>\n      <td>7.0</td>\n      <td>24.0</td>\n      <td>38.0</td>\n      <td>39.0</td>\n      <td>14.0</td>\n      <td>3449.0</td>\n      <td>835.0</td>\n      <td>69.0</td>\n      <td>321.0</td>\n      <td>414.0</td>\n      <td>375.0</td>\n      <td>632.0</td>\n      <td>43.0</td>\n      <td>10.0</td>\n    </tr>\n    <tr>\n      <th>2</th>\n      <td>479.0</td>\n      <td>130.0</td>\n      <td>18.0</td>\n      <td>66.0</td>\n      <td>72.0</td>\n      <td>76.0</td>\n      <td>3.0</td>\n      <td>1624.0</td>\n      <td>457.0</td>\n      <td>63.0</td>\n      <td>224.0</td>\n      <td>266.0</td>\n      <td>263.0</td>\n      <td>880.0</td>\n      <td>82.0</td>\n      <td>14.0</td>\n    </tr>\n    <tr>\n      <th>3</th>\n      <td>496.0</td>\n      <td>141.0</td>\n      <td>20.0</td>\n      <td>65.0</td>\n      <td>78.0</td>\n      <td>37.0</td>\n      <td>11.0</td>\n      <td>5628.0</td>\n      <td>1575.0</td>\n      <td>225.0</td>\n      <td>828.0</td>\n      <td>838.0</td>\n      <td>354.0</td>\n      <td>200.0</td>\n      <td>11.0</td>\n      <td>3.0</td>\n    </tr>\n    <tr>\n      <th>4</th>\n      <td>321.0</td>\n      <td>87.0</td>\n      <td>10.0</td>\n      <td>39.0</td>\n      <td>42.0</td>\n      <td>30.0</td>\n      <td>2.0</td>\n      <td>396.0</td>\n      <td>101.0</td>\n      <td>12.0</td>\n      <td>48.0</td>\n      <td>46.0</td>\n      <td>33.0</td>\n      <td>805.0</td>\n      <td>40.0</td>\n      <td>4.0</td>\n    </tr>\n    <tr>\n      <th>5</th>\n      <td>594.0</td>\n      <td>169.0</td>\n      <td>4.0</td>\n      <td>74.0</td>\n      <td>51.0</td>\n      <td>35.0</td>\n      <td>11.0</td>\n      <td>4408.0</td>\n      <td>1133.0</td>\n      <td>19.0</td>\n      <td>501.0</td>\n      <td>336.0</td>\n      <td>194.0</td>\n      <td>282.0</td>\n      <td>421.0</td>\n      <td>25.0</td>\n    </tr>\n  </tbody>\n</table>\n</div>"
     },
     "execution_count": 6,
     "metadata": {},
     "output_type": "execute_result"
    }
   ],
   "source": [
    "X_.head()\n"
   ],
   "metadata": {
    "collapsed": false,
    "pycharm": {
     "name": "#%%\n"
    }
   }
  },
  {
   "cell_type": "code",
   "execution_count": 7,
   "outputs": [
    {
     "data": {
      "text/plain": "   AtBat   Hits  HmRun  Runs   RBI  Walks  Years  CAtBat   CHits  CHmRun  \\\n1  315.0   81.0    7.0  24.0  38.0   39.0   14.0  3449.0   835.0    69.0   \n2  479.0  130.0   18.0  66.0  72.0   76.0    3.0  1624.0   457.0    63.0   \n3  496.0  141.0   20.0  65.0  78.0   37.0   11.0  5628.0  1575.0   225.0   \n4  321.0   87.0   10.0  39.0  42.0   30.0    2.0   396.0   101.0    12.0   \n5  594.0  169.0    4.0  74.0  51.0   35.0   11.0  4408.0  1133.0    19.0   \n\n   CRuns   CRBI  CWalks  PutOuts  Assists  Errors  League_N  Division_W  \\\n1  321.0  414.0   375.0    632.0     43.0    10.0         1           1   \n2  224.0  266.0   263.0    880.0     82.0    14.0         0           1   \n3  828.0  838.0   354.0    200.0     11.0     3.0         1           0   \n4   48.0   46.0    33.0    805.0     40.0     4.0         1           0   \n5  501.0  336.0   194.0    282.0    421.0    25.0         0           1   \n\n   NewLeague_N  \n1            1  \n2            0  \n3            1  \n4            1  \n5            0  ",
      "text/html": "<div>\n<style scoped>\n    .dataframe tbody tr th:only-of-type {\n        vertical-align: middle;\n    }\n\n    .dataframe tbody tr th {\n        vertical-align: top;\n    }\n\n    .dataframe thead th {\n        text-align: right;\n    }\n</style>\n<table border=\"1\" class=\"dataframe\">\n  <thead>\n    <tr style=\"text-align: right;\">\n      <th></th>\n      <th>AtBat</th>\n      <th>Hits</th>\n      <th>HmRun</th>\n      <th>Runs</th>\n      <th>RBI</th>\n      <th>Walks</th>\n      <th>Years</th>\n      <th>CAtBat</th>\n      <th>CHits</th>\n      <th>CHmRun</th>\n      <th>CRuns</th>\n      <th>CRBI</th>\n      <th>CWalks</th>\n      <th>PutOuts</th>\n      <th>Assists</th>\n      <th>Errors</th>\n      <th>League_N</th>\n      <th>Division_W</th>\n      <th>NewLeague_N</th>\n    </tr>\n  </thead>\n  <tbody>\n    <tr>\n      <th>1</th>\n      <td>315.0</td>\n      <td>81.0</td>\n      <td>7.0</td>\n      <td>24.0</td>\n      <td>38.0</td>\n      <td>39.0</td>\n      <td>14.0</td>\n      <td>3449.0</td>\n      <td>835.0</td>\n      <td>69.0</td>\n      <td>321.0</td>\n      <td>414.0</td>\n      <td>375.0</td>\n      <td>632.0</td>\n      <td>43.0</td>\n      <td>10.0</td>\n      <td>1</td>\n      <td>1</td>\n      <td>1</td>\n    </tr>\n    <tr>\n      <th>2</th>\n      <td>479.0</td>\n      <td>130.0</td>\n      <td>18.0</td>\n      <td>66.0</td>\n      <td>72.0</td>\n      <td>76.0</td>\n      <td>3.0</td>\n      <td>1624.0</td>\n      <td>457.0</td>\n      <td>63.0</td>\n      <td>224.0</td>\n      <td>266.0</td>\n      <td>263.0</td>\n      <td>880.0</td>\n      <td>82.0</td>\n      <td>14.0</td>\n      <td>0</td>\n      <td>1</td>\n      <td>0</td>\n    </tr>\n    <tr>\n      <th>3</th>\n      <td>496.0</td>\n      <td>141.0</td>\n      <td>20.0</td>\n      <td>65.0</td>\n      <td>78.0</td>\n      <td>37.0</td>\n      <td>11.0</td>\n      <td>5628.0</td>\n      <td>1575.0</td>\n      <td>225.0</td>\n      <td>828.0</td>\n      <td>838.0</td>\n      <td>354.0</td>\n      <td>200.0</td>\n      <td>11.0</td>\n      <td>3.0</td>\n      <td>1</td>\n      <td>0</td>\n      <td>1</td>\n    </tr>\n    <tr>\n      <th>4</th>\n      <td>321.0</td>\n      <td>87.0</td>\n      <td>10.0</td>\n      <td>39.0</td>\n      <td>42.0</td>\n      <td>30.0</td>\n      <td>2.0</td>\n      <td>396.0</td>\n      <td>101.0</td>\n      <td>12.0</td>\n      <td>48.0</td>\n      <td>46.0</td>\n      <td>33.0</td>\n      <td>805.0</td>\n      <td>40.0</td>\n      <td>4.0</td>\n      <td>1</td>\n      <td>0</td>\n      <td>1</td>\n    </tr>\n    <tr>\n      <th>5</th>\n      <td>594.0</td>\n      <td>169.0</td>\n      <td>4.0</td>\n      <td>74.0</td>\n      <td>51.0</td>\n      <td>35.0</td>\n      <td>11.0</td>\n      <td>4408.0</td>\n      <td>1133.0</td>\n      <td>19.0</td>\n      <td>501.0</td>\n      <td>336.0</td>\n      <td>194.0</td>\n      <td>282.0</td>\n      <td>421.0</td>\n      <td>25.0</td>\n      <td>0</td>\n      <td>1</td>\n      <td>0</td>\n    </tr>\n  </tbody>\n</table>\n</div>"
     },
     "execution_count": 7,
     "metadata": {},
     "output_type": "execute_result"
    }
   ],
   "source": [
    "X = pd.concat([X_,dms[['League_N','Division_W','NewLeague_N']]],axis=1)\n",
    "X.head()"
   ],
   "metadata": {
    "collapsed": false,
    "pycharm": {
     "name": "#%%\n"
    }
   }
  },
  {
   "cell_type": "code",
   "execution_count": 9,
   "outputs": [],
   "source": [
    "from sklearn.model_selection import train_test_split\n",
    "\n",
    "X_train,X_test,y_train,y_test = train_test_split(X,y,test_size=0.25,random_state=42)"
   ],
   "metadata": {
    "collapsed": false,
    "pycharm": {
     "name": "#%%\n"
    }
   }
  },
  {
   "cell_type": "code",
   "execution_count": 11,
   "outputs": [
    {
     "data": {
      "text/plain": "BaggingRegressor(bootstrap_features=True)"
     },
     "execution_count": 11,
     "metadata": {},
     "output_type": "execute_result"
    }
   ],
   "source": [
    "bag_model = BaggingRegressor(bootstrap_features = True)\n",
    "bag_model.fit(X_train, y_train)"
   ],
   "metadata": {
    "collapsed": false,
    "pycharm": {
     "name": "#%%\n"
    }
   }
  },
  {
   "cell_type": "code",
   "execution_count": 12,
   "outputs": [
    {
     "data": {
      "text/plain": "10"
     },
     "execution_count": 12,
     "metadata": {},
     "output_type": "execute_result"
    }
   ],
   "source": [
    "bag_model.n_estimators"
   ],
   "metadata": {
    "collapsed": false,
    "pycharm": {
     "name": "#%%\n"
    }
   }
  },
  {
   "cell_type": "code",
   "execution_count": 13,
   "outputs": [
    {
     "data": {
      "text/plain": "[DecisionTreeRegressor(random_state=747204345),\n DecisionTreeRegressor(random_state=579199047),\n DecisionTreeRegressor(random_state=654420098),\n DecisionTreeRegressor(random_state=1085027728),\n DecisionTreeRegressor(random_state=1661067084),\n DecisionTreeRegressor(random_state=881750537),\n DecisionTreeRegressor(random_state=724557789),\n DecisionTreeRegressor(random_state=1337507396),\n DecisionTreeRegressor(random_state=795042298),\n DecisionTreeRegressor(random_state=84133211)]"
     },
     "execution_count": 13,
     "metadata": {},
     "output_type": "execute_result"
    }
   ],
   "source": [
    "bag_model.estimators_"
   ],
   "metadata": {
    "collapsed": false,
    "pycharm": {
     "name": "#%%\n"
    }
   }
  },
  {
   "cell_type": "code",
   "execution_count": 14,
   "outputs": [
    {
     "data": {
      "text/plain": "[array([176, 105, 113,  14, 185, 140,  84, 102,  42,  79, 119, 112, 189,\n        116,  74,  15,  29,   6, 123,  68,  72,  65, 162,  56, 148, 154,\n        178,  57,  56,  23,  23, 106,  89,  54,  94, 136,  18, 116,  60,\n         23,  35, 126, 146,  82, 184,  88, 127, 191, 174,  23, 177,  57,\n        169, 176,  99, 119,  25, 158,  28, 108,  94, 187,  53,  81, 155,\n         65, 149,  13, 123, 127, 168,  48, 192, 100,  64, 169, 118,  71,\n        152, 111,  16, 154, 191, 163,  93, 120,  67,  71,  28,  31,  64,\n        145,  87,  47,  28,  42, 134, 133,  22,  79, 115,  79,   3, 120,\n         39,  78, 187,  29,  86, 117, 139, 179,   4,  19, 119,  42,  82,\n        135,  12,  74,  30,  55, 156,   3, 163,  60, 178,  45,  48, 140,\n         37, 172, 103, 113, 193, 118,  75, 132, 190,  32, 196,  86, 185,\n         71,  67, 104,   3,  84, 106, 161, 163,  79, 118,  27, 186, 189,\n        156,   4,  72, 185, 181,  69, 180, 136,   6, 179,  57,   1,  52,\n         39, 133,  19,  21,  88, 175,  12,  12,  54,   1, 183,  68,  98,\n         27,   0,  13,  96, 118, 136,  45, 127,  81,  31, 123,  28,   2,\n        148,   0]),\n array([ 56, 176,  58,  72,  78,  65, 154, 179,  36,  62,  35,  80, 105,\n         96,  32,   5, 115, 136, 132,   9,  53,  84, 167, 124,   0,   4,\n         70,  20,  83, 118, 135,  39,  36, 115,  23, 136,  86,  48,  38,\n         80,  47,  28,  63,  13,  47, 120,  74,  40, 189,  57,   0, 116,\n         47,   3,  53,  90, 117,  99,  58,  19,  11, 156,   9, 145, 191,\n        150, 190,  29,  49, 194,  72, 165,  12, 180, 148, 169,  58,  51,\n        128,   8,  92, 156,  99, 177,  91, 112,  52,   8, 120,  68, 130,\n         18,  76, 101,  89, 160,  56, 174,  51,  61,  11, 157, 114,  95,\n         87, 107,  76,  35,  94,  38, 135, 178, 132, 163,   8, 154,  91,\n        153, 186, 193, 134,  84,  94,   5, 186,   3,   8,  49, 124,  95,\n         92, 168,  57, 128, 107,  83, 192, 183,  49,  78,  56,  77, 182,\n         80,  75,  78,  39, 126,  19, 152,   8,  30,  60,  77,  39,  42,\n        111,   8, 146,  12, 131, 179, 104,  21,  78,  93,  73,  88, 103,\n        114, 128,  36,  89,  55, 187, 107, 170,  58,  49,  85, 189,  26,\n         26,   6,  37, 130,  31, 162,  41,   5, 161, 193, 152, 134,  46,\n        102, 114]),\n array([ 74,  28, 185,   1, 147,  43, 144,  12, 178, 155,  22,  26,   9,\n        122,  79, 179, 151,  10, 108, 131,  15,  33, 187, 187,  18, 191,\n         69, 135, 120,  40, 131,  59, 177,  56,  49,  88, 153,  92, 180,\n         84, 109, 175,  10, 192, 126,  45, 154,  33,  77, 144, 139,  51,\n        177, 109,  31,  64, 110,  77, 176,  98, 157, 103, 179, 135, 177,\n         44,  76, 144, 157, 118,  44,  83, 145, 174, 131,  81, 136, 145,\n        110,  44,  64, 139, 107,   8,   7, 159, 166, 151, 107, 125,  62,\n         54,  88, 185,  28, 149,  36,  83,  89, 105,  41, 164, 106, 178,\n        102, 162,   9, 110,  62, 138, 160,  44,  69,  35,  65,   7,  16,\n         39,  23,  14, 144,  73,  27, 165,   5,  50,  61, 187, 104,  37,\n        183, 132, 118, 173, 113,  92,  38,  85, 150, 179, 182, 135,  95,\n         41, 175,  29,  57,  40, 162,  77, 193,  48,  90,  92,  55,  90,\n         63,  59, 175,  13,  80,  65, 148, 138,  69, 113, 140, 110,  24,\n         64,   3,  55, 191,  93,  83, 114,  42, 172,  28, 119, 132, 153,\n        154, 181,  90,  80,  83, 185,  76, 132, 188,   7,   6,  44,  78,\n        190, 179]),\n array([101,  55, 113,  96, 147,  93,  82,  59,  30,  12, 134,  38, 162,\n        110,  31,  87, 123,  72, 196, 182, 115,  71, 119,  70, 158,  26,\n        105,   7,  56, 108,  41, 193,  87, 140, 152,  29, 150, 194,  12,\n         21, 160,  85, 156, 191, 157, 110, 140,  32,  67, 158, 178, 118,\n        176,  93, 125,  94,   2, 158, 193,  63, 175,  71, 149, 183, 119,\n        107,   4,  62, 163, 105,   2, 119,  59, 111, 196,  33, 178, 193,\n        127, 169, 196,  84, 109, 157, 102, 172,  77, 135, 114, 116, 119,\n        133,  50, 106, 130,  67,  63,  18, 151,  29, 163, 137, 141,  19,\n         43, 142, 117,  80, 190, 102, 149, 135, 171,   0, 181,  31, 108,\n        178,  83,  52,  49,  14,  35, 153, 184,  26, 183,   6,  18, 103,\n         43,  70, 176,  35,  39,  68, 152,  46,   3, 179, 132, 125, 187,\n        113,  48, 193, 101,  23,  33,  56,  61,  14, 166, 128, 142,  96,\n         49,  38,  85, 140,  12, 125,  86, 165,  29, 149,  21,  14,  23,\n        159, 196, 149,  49, 166, 170,  90, 161, 117, 160,  20,  22,  10,\n         11, 164, 158,  13,  45,  26, 151,  91, 136, 184,  29,  60,  60,\n        113, 159]),\n array([ 31, 122,  75,   6, 139,  16,  10,  84,  35,  91,  55,  73, 152,\n        178, 195,  55,  25,  63,  86,  96,   1,  82, 147,  15,   4, 188,\n        188, 122,  87,   5,  40, 154, 165,  46,   1, 122,  54, 178, 146,\n         53, 183, 110,  86, 145,  22, 170, 111, 158, 105, 123,  55,  83,\n        129, 134,   1, 158,   2, 126,  92, 129, 182, 188, 124, 106, 182,\n        186, 135, 136,  82, 182,   7,   6,  97, 174,  89, 163, 120,  18,\n         14,  45,  15,  60,  40,  39, 172,  93, 106,  79, 109, 125,  60,\n         67,  62,   1,  29,   9, 146, 104,  71, 117, 153,   8, 183, 137,\n         76,  76,  33,  98,  67,  35, 135, 191,  90, 102,  99,  79,   4,\n         11,  55, 135,  17,  61, 174,  28, 131,   6,  71, 108, 172, 169,\n        191, 103, 135, 184,   7,  74, 120, 139,  59,  33, 162, 102, 195,\n        194, 111,  82, 173,  34, 140,   9,  78, 122,  96, 123,  42, 129,\n         59, 142,  25,  84, 162,   5,  63,  91, 137, 154,  92,   0, 118,\n         78, 156, 106,  97, 132, 130, 162,  74, 158,   5,  93, 132, 117,\n         55,  81,  43,  20, 114, 196,  97, 151, 137, 157,  68,  62, 121,\n         30,  47]),\n array([ 76, 100, 115,  54, 147,  90, 105,   4, 145, 189,  36,  70, 108,\n         55, 189, 150,  34,  42,  58, 163, 169,  60,  20, 149,  21, 138,\n        103,  34,  95, 139, 172, 152, 147,  96,  78, 127, 191, 104,  68,\n         53, 148, 122, 139, 142, 183,  54,  33,  62,  47,  52, 151, 187,\n        122, 117,  76, 163,  50,  52, 160,  11, 183,  57, 160, 169, 147,\n         24,  42, 128,   7,  14, 122,  91, 125, 128, 152,  17, 123,  67,\n        100,  83, 124, 150, 174, 108, 159,  99, 155, 184, 180,  71,  81,\n         32, 181, 177,   7,  57, 195,  12,  49,  53, 170,  43,  25, 152,\n         81, 162,  96, 164, 161,  20, 123,  11, 169,  89, 186,  53,  82,\n          2, 172,   3, 143,  70,  64,   6, 163,   1, 184,  26,  58, 164,\n         71, 136, 105,  48,  79,  88,  94,  19,  75,  40, 183,  16, 104,\n         93, 149,  59,  63, 152,  67,  25,  27, 169, 122,  98, 143,  81,\n        118,  49, 142, 167,  32, 172, 119, 116, 190, 179, 162,  36,  75,\n         22, 119,  59,  44, 133, 183, 177,  93,  95,   6,  75, 122,  48,\n         59,  18, 170, 146, 165, 188, 141, 155,  69,  13, 120, 190, 144,\n        167, 144]),\n array([ 83,  92, 151,  16,  79,   6, 178,  33,  11, 158,   4, 161,  78,\n         51, 125, 108,  17,  82,  57, 175, 173,  18, 107,  88, 164, 165,\n        119, 122,  17,  87,  28,  17,  94,  95, 121,   6, 161,  65,  52,\n        175, 169, 146,  66,  79, 165,  15,  36, 141, 182,  88,  30,  76,\n        194, 126,  82, 106,  47,  71, 185, 186,  47,  37,  30, 154, 121,\n         72, 171, 150,  44,  59,  40, 168,  21, 134,  19,  68,  37,  48,\n        121, 168, 196,   2,   3, 169,  69,  60, 192, 193,  95,  37, 155,\n        141,  53,  25,  25, 148, 136, 145,  36, 166, 119,  31, 188, 173,\n         14, 156,  96, 172, 148, 142, 116,  62,   4,  83,   9, 153, 104,\n         42,  56, 169, 187,  70,  80, 142, 178,  19, 118, 113,  56,  28,\n         74,  59,  65,  31, 123,  17, 141,  13, 148, 184, 133, 182,  52,\n         35, 182,  70,  65,  27, 159, 109,  51,  30, 144,  95,  34, 181,\n         84, 182, 120, 193, 121,  70,  65,  56,  82,  57,   6,  75, 178,\n          8, 151, 155,  15,  18, 143, 110,  58, 177, 126,  90,  51,  63,\n        111, 114,  17,   1, 182,  67,  72,  85, 132,  53,  27,  23, 169,\n        114,  49]),\n array([ 60,  63, 131, 132,  81, 182, 104, 174,  97,  12, 172,   6,  56,\n        174,  24, 191, 100,  85, 168, 183, 157, 169,  60, 162,  97, 123,\n        173,  12, 100,  63, 196,  37, 186,  55, 110, 134,  90,  25,  57,\n         31, 135, 171, 113, 168,  62, 142, 136, 174,   1, 157,  91, 139,\n         75,   8,  72,  26, 116, 181,  24, 195, 186,  58,  84, 136,  30,\n         94, 145,  81, 121,  19,  40,  32,  66, 112,  47,  12, 117, 101,\n        119, 185, 143,   5, 123, 146, 186, 136, 150, 100, 163, 165,  71,\n         97, 173,  41, 146, 158, 112,  95,  66, 155, 101,  16,  70, 173,\n        133,  99,  73,  80,  76, 167,   8, 173, 178,  63,  73,  11,  29,\n         72, 140,  12, 145, 119,  66,  53, 121, 161,  54,  16, 156,  45,\n        108,  79,  39, 181,  62,  18, 107,   0, 176, 146,  36, 103, 104,\n        172, 138,  45, 165,  19, 176, 104,  25, 175,  80, 137,  70, 117,\n        186, 124, 168, 161, 125,  44, 141, 141,  66,  40,  81, 160, 146,\n          8, 170, 177, 173,  67,  42, 175,  23, 188,  56,  16,  17,  13,\n         81, 132, 146, 184,  90,  91, 187, 194,  40, 182,  99, 141, 125,\n        144, 130]),\n array([116,   0,  89,  67,  18, 110, 163, 185, 114, 193,  55, 125, 100,\n        189,  51, 149, 161,  87,  51,  16, 102, 126,  62,  40,  18, 161,\n        117, 116,  75,  71,  53, 146,  35,  78, 182,  18, 179, 180, 168,\n         90, 169,  42,  78, 145, 108,  30,  15, 123,  24,  16,  22,  56,\n        110, 127, 116, 138, 168,  17, 119, 160, 139, 109,  47,   2,  77,\n         44, 176,  25,  32,  62, 179, 139,  13, 158, 154, 183,  13, 127,\n        154, 179,  91, 118, 125,  14, 101, 128,  85, 101,   1,  97, 127,\n        106,  45, 103,  41,  90, 141,   6, 138, 160, 165,  17, 153,  38,\n         56,  24,  26, 158,  25,  38, 138,  90,  64, 102, 173, 141,  29,\n         46,  55, 173,  20, 186, 107,  13, 135, 136,  29, 176,  17,  88,\n        129,  27, 104, 155,  60,  31,  73,  82, 158, 100, 193, 118, 109,\n         36, 100,   8,  25,  22,  98,   0, 193, 171,  32, 160, 174,  98,\n         36, 125, 129, 123, 124, 188,  48,  10,  45,  84,  36,  24,  71,\n        160, 156, 182, 195,  53,  70, 142,  66, 133,  70,  52,  38,  12,\n        132, 179,  55,  74, 118, 153,   8,  32, 102,  91,  40, 118, 135,\n        174,  89]),\n array([151,  52, 195,  73,  80,  24, 149, 132, 183, 181, 130,  67, 170,\n        137, 118, 138,  39, 120,  77, 171, 164,  23, 158, 102,  59, 154,\n         87,  64,  17, 121,  26,  54,  49,   8,   9,  86,  42,  20,  29,\n        142, 116,  87,  80, 154, 127, 169,  70, 127, 151, 168,  25,  86,\n        127,  92,  38, 109, 100,  60, 134, 165, 141, 191,  97, 129,  18,\n         57,  82, 121,  62, 133, 123, 195, 104,  70, 157, 143, 103, 166,\n        168,  59, 137,  52,  12, 192,   2, 132,  69,   5, 179,  82, 180,\n        127,  29, 171, 182,  80,  35, 106,  17,   9, 120, 109,  84,  80,\n         59,  90,  32, 156, 107,  36,  86, 110, 123,  74, 139, 185, 176,\n         34, 113,  65,   5, 108,  26, 195, 158, 117,  96, 148,  95, 181,\n         93, 140,  86, 137,  87, 192, 117, 150,  32, 133,  98, 161,  45,\n        160, 192,  30, 160,  44, 177, 177,  13,  97, 100,  65, 176,  13,\n        151, 120, 122, 168, 162,  82,  53, 194, 141, 133, 185,  14, 195,\n        140,  69,  99, 173, 148,  78,  81,  63,  67, 183, 171,  29,  29,\n         40, 107, 111, 104,  15, 125, 193,  78,  88, 141, 148,   5, 102,\n        196,  57])]"
     },
     "execution_count": 14,
     "metadata": {},
     "output_type": "execute_result"
    }
   ],
   "source": [
    "bag_model.estimators_samples_"
   ],
   "metadata": {
    "collapsed": false,
    "pycharm": {
     "name": "#%%\n"
    }
   }
  },
  {
   "cell_type": "code",
   "execution_count": 15,
   "outputs": [
    {
     "data": {
      "text/plain": "[array([ 7,  3,  2, 15, 14,  7,  1,  4,  2,  1,  8,  0, 11,  2, 14,  3, 12,\n         9, 10]),\n array([ 7,  7,  7, 10, 18, 17,  3, 11,  3,  4, 16,  0,  5,  0,  2,  1,  5,\n        16, 11]),\n array([ 2, 11, 18, 12,  0,  4,  4,  3, 17, 12, 14,  7, 15, 17, 12, 11, 15,\n         8,  2]),\n array([16, 17, 18,  6, 10, 11, 10,  4,  2,  3,  5,  4, 18,  1, 16,  8,  5,\n        16,  5]),\n array([12, 17,  9, 15, 18, 15, 11, 10,  5,  0,  5, 15,  6, 17,  1, 18,  3,\n         8,  7]),\n array([ 9,  1,  2, 11, 12, 11, 13,  8, 14,  8, 14,  4,  1,  1,  7, 15, 15,\n        13, 13]),\n array([ 8,  7, 14,  2,  4,  5,  0, 18,  6,  5,  4,  2,  2,  6, 15,  0,  6,\n        17,  1]),\n array([ 4,  2,  1,  5, 16,  2,  4, 10,  8,  8, 10, 12, 15,  5, 11, 12,  7,\n        11,  0]),\n array([10,  2,  8, 17,  4, 16, 15,  5, 17,  5,  8,  6,  2,  8, 17, 12, 15,\n        11,  0]),\n array([ 6, 15, 15,  2, 17,  1,  2,  5, 12,  7, 13, 18, 18, 13,  4,  7,  1,\n         6, 12])]"
     },
     "execution_count": 15,
     "metadata": {},
     "output_type": "execute_result"
    }
   ],
   "source": [
    "bag_model.estimators_features_"
   ],
   "metadata": {
    "collapsed": false,
    "pycharm": {
     "name": "#%%\n"
    }
   }
  },
  {
   "cell_type": "code",
   "execution_count": 16,
   "outputs": [
    {
     "data": {
      "text/plain": "DecisionTreeRegressor(random_state=579199047)"
     },
     "execution_count": 16,
     "metadata": {},
     "output_type": "execute_result"
    }
   ],
   "source": [
    "bag_model.estimators_[1]"
   ],
   "metadata": {
    "collapsed": false,
    "pycharm": {
     "name": "#%%\n"
    }
   }
  },
  {
   "cell_type": "code",
   "execution_count": 17,
   "outputs": [],
   "source": [
    "y_pred = bag_model.predict(X_test)"
   ],
   "metadata": {
    "collapsed": false,
    "pycharm": {
     "name": "#%%\n"
    }
   }
  },
  {
   "cell_type": "code",
   "execution_count": 18,
   "outputs": [
    {
     "data": {
      "text/plain": "329.3563753891228"
     },
     "execution_count": 18,
     "metadata": {},
     "output_type": "execute_result"
    }
   ],
   "source": [
    "np.sqrt(mean_squared_error(y_test, y_pred))"
   ],
   "metadata": {
    "collapsed": false,
    "pycharm": {
     "name": "#%%\n"
    }
   }
  },
  {
   "cell_type": "code",
   "execution_count": 19,
   "outputs": [],
   "source": [
    "bag_params = {\"n_estimators\": range(2,20)}"
   ],
   "metadata": {
    "collapsed": false,
    "pycharm": {
     "name": "#%%\n"
    }
   }
  },
  {
   "cell_type": "code",
   "execution_count": 20,
   "outputs": [],
   "source": [
    "bag_cv_model = GridSearchCV(bag_model, bag_params, cv = 10)"
   ],
   "metadata": {
    "collapsed": false,
    "pycharm": {
     "name": "#%%\n"
    }
   }
  },
  {
   "cell_type": "code",
   "execution_count": 25,
   "outputs": [
    {
     "data": {
      "text/plain": "GridSearchCV(cv=10, estimator=BaggingRegressor(bootstrap_features=True),\n             param_grid={'n_estimators': range(2, 20)})"
     },
     "execution_count": 25,
     "metadata": {},
     "output_type": "execute_result"
    }
   ],
   "source": [
    "bag_cv_model.fit(X_train, y_train)"
   ],
   "metadata": {
    "collapsed": false,
    "pycharm": {
     "name": "#%%\n"
    }
   }
  },
  {
   "cell_type": "code",
   "execution_count": 26,
   "outputs": [
    {
     "data": {
      "text/plain": "{'n_estimators': 19}"
     },
     "execution_count": 26,
     "metadata": {},
     "output_type": "execute_result"
    }
   ],
   "source": [
    "bag_cv_model.best_params_"
   ],
   "metadata": {
    "collapsed": false,
    "pycharm": {
     "name": "#%%\n"
    }
   }
  },
  {
   "cell_type": "code",
   "execution_count": 27,
   "outputs": [],
   "source": [
    "bag_tuned = BaggingRegressor( n_estimators = 14, random_state = 45)"
   ],
   "metadata": {
    "collapsed": false,
    "pycharm": {
     "name": "#%%\n"
    }
   }
  },
  {
   "cell_type": "code",
   "execution_count": 28,
   "outputs": [
    {
     "data": {
      "text/plain": "BaggingRegressor(n_estimators=14, random_state=45)"
     },
     "execution_count": 28,
     "metadata": {},
     "output_type": "execute_result"
    }
   ],
   "source": [
    "bag_tuned.fit(X_train, y_train)"
   ],
   "metadata": {
    "collapsed": false,
    "pycharm": {
     "name": "#%%\n"
    }
   }
  },
  {
   "cell_type": "code",
   "execution_count": 29,
   "outputs": [],
   "source": [
    "y_pred = bag_tuned.predict(X_test)"
   ],
   "metadata": {
    "collapsed": false,
    "pycharm": {
     "name": "#%%\n"
    }
   }
  },
  {
   "cell_type": "code",
   "execution_count": 30,
   "outputs": [
    {
     "data": {
      "text/plain": "346.457987188104"
     },
     "execution_count": 30,
     "metadata": {},
     "output_type": "execute_result"
    }
   ],
   "source": [
    "np.sqrt(mean_squared_error(y_test, y_pred))"
   ],
   "metadata": {
    "collapsed": false,
    "pycharm": {
     "name": "#%%\n"
    }
   }
  }
 ],
 "metadata": {
  "kernelspec": {
   "display_name": "Python 3",
   "language": "python",
   "name": "python3"
  },
  "language_info": {
   "codemirror_mode": {
    "name": "ipython",
    "version": 2
   },
   "file_extension": ".py",
   "mimetype": "text/x-python",
   "name": "python",
   "nbconvert_exporter": "python",
   "pygments_lexer": "ipython2",
   "version": "2.7.6"
  }
 },
 "nbformat": 4,
 "nbformat_minor": 0
}