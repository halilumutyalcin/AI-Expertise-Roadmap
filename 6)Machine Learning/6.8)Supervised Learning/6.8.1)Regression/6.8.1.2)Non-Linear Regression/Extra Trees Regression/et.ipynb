{
 "cells": [
  {
   "cell_type": "raw",
   "source": [
    "Extra Trees Regressor is an ensemble machine learning algorithm that is used to predict a continuous target variable based on a set of features. It is similar to the decision tree algorithm, but instead of building a single decision tree, it builds a forest of decision trees and combines the predictions of these trees to make a final prediction.\n",
    "\n",
    "Extra Trees Regressor works by randomly sampling the data and building a decision tree on each sample. The trees are then trained on the data and their predictions are combined using a simple averaging method. This process is repeated multiple times to build a forest of decision trees, and the final prediction is made by averaging the predictions of all the trees in the forest.\n",
    "\n",
    "Extra Trees Regressor is particularly useful when the data is noisy or has a high degree of class imbalance, as it is able to handle these situations better than many other machine learning algorithms. It is also useful when there are a large number of features in the data, as it is able to handle high dimensional data well.\n",
    "\n",
    "Overall, Extra Trees Regressor is a powerful tool for predicting a continuous target variable based on a set of features and is commonly used in a variety of applications, including predictive modeling and regression tasks.\n",
    "\n"
   ],
   "metadata": {
    "collapsed": false,
    "pycharm": {
     "name": "#%% raw\n"
    }
   }
  },
  {
   "cell_type": "code",
   "execution_count": 1,
   "outputs": [
    {
     "data": {
      "text/plain": "0.27081747066124695"
     },
     "execution_count": 1,
     "metadata": {},
     "output_type": "execute_result"
    }
   ],
   "source": [
    "from sklearn.datasets import load_diabetes\n",
    "from sklearn.model_selection import train_test_split\n",
    "from sklearn.ensemble import ExtraTreesRegressor\n",
    "X, y = load_diabetes(return_X_y=True)\n",
    "X_train, X_test, y_train, y_test = train_test_split(\n",
    "    X, y, random_state=0)\n",
    "reg = ExtraTreesRegressor(n_estimators=100, random_state=0).fit(\n",
    "   X_train, y_train)\n",
    "reg.score(X_test, y_test)"
   ],
   "metadata": {
    "collapsed": false,
    "pycharm": {
     "name": "#%%\n"
    }
   }
  },
  {
   "cell_type": "code",
   "execution_count": null,
   "outputs": [],
   "source": [],
   "metadata": {
    "collapsed": false,
    "pycharm": {
     "name": "#%%\n"
    }
   }
  }
 ],
 "metadata": {
  "kernelspec": {
   "display_name": "Python 3",
   "language": "python",
   "name": "python3"
  },
  "language_info": {
   "codemirror_mode": {
    "name": "ipython",
    "version": 2
   },
   "file_extension": ".py",
   "mimetype": "text/x-python",
   "name": "python",
   "nbconvert_exporter": "python",
   "pygments_lexer": "ipython2",
   "version": "2.7.6"
  }
 },
 "nbformat": 4,
 "nbformat_minor": 0
}