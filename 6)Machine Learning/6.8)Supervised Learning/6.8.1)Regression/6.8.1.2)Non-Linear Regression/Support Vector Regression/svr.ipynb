{
 "cells": [
  {
   "cell_type": "code",
   "execution_count": 1,
   "outputs": [],
   "source": [
    "import numpy as np\n",
    "import pandas as pd\n",
    "from sklearn.model_selection import GridSearchCV\n",
    "from sklearn.metrics import mean_squared_error\n",
    "import matplotlib.pyplot as plt\n",
    "\n",
    "\n",
    "from warnings import filterwarnings\n",
    "filterwarnings('ignore')"
   ],
   "metadata": {
    "collapsed": false,
    "pycharm": {
     "name": "#%%\n"
    }
   }
  },
  {
   "cell_type": "raw",
   "source": [
    "KNN (K-Nearest Neighbors) is a supervised machine learning algorithm that is used for classification and regression tasks. It works by identifying the K nearest data points to a given data point and using the class or value of those points to predict the class or value of the given data point.\n",
    "\n",
    "To use KNN, the data must first be split into a training set and a testing set. The algorithm is then trained on the training set by calculating the distance between each data point and its K nearest neighbors. Once the algorithm is trained, it can be used to predict the class or value of a data point in the testing set by finding the K nearest neighbors and using their class or value to make a prediction.\n",
    "\n",
    "KNN is a simple and effective algorithm that works well on small and medium-sized datasets. It is easy to implement and does not require any complicated mathematical calculations, making it a good choice for beginners. However, it can be computationally expensive and may not perform as well on larger datasets or with high-dimensional data."
   ],
   "metadata": {
    "collapsed": false,
    "pycharm": {
     "name": "#%% raw\n"
    }
   }
  },
  {
   "cell_type": "code",
   "execution_count": 2,
   "outputs": [
    {
     "data": {
      "text/plain": "   AtBat  Hits  HmRun  Runs  RBI  Walks  Years  CAtBat  CHits  CHmRun  CRuns  \\\n1    315    81      7    24   38     39     14    3449    835      69    321   \n2    479   130     18    66   72     76      3    1624    457      63    224   \n3    496   141     20    65   78     37     11    5628   1575     225    828   \n4    321    87     10    39   42     30      2     396    101      12     48   \n5    594   169      4    74   51     35     11    4408   1133      19    501   \n\n   CRBI  CWalks League Division  PutOuts  Assists  Errors  Salary NewLeague  \n1   414     375      N        W      632       43      10   475.0         N  \n2   266     263      A        W      880       82      14   480.0         A  \n3   838     354      N        E      200       11       3   500.0         N  \n4    46      33      N        E      805       40       4    91.5         N  \n5   336     194      A        W      282      421      25   750.0         A  ",
      "text/html": "<div>\n<style scoped>\n    .dataframe tbody tr th:only-of-type {\n        vertical-align: middle;\n    }\n\n    .dataframe tbody tr th {\n        vertical-align: top;\n    }\n\n    .dataframe thead th {\n        text-align: right;\n    }\n</style>\n<table border=\"1\" class=\"dataframe\">\n  <thead>\n    <tr style=\"text-align: right;\">\n      <th></th>\n      <th>AtBat</th>\n      <th>Hits</th>\n      <th>HmRun</th>\n      <th>Runs</th>\n      <th>RBI</th>\n      <th>Walks</th>\n      <th>Years</th>\n      <th>CAtBat</th>\n      <th>CHits</th>\n      <th>CHmRun</th>\n      <th>CRuns</th>\n      <th>CRBI</th>\n      <th>CWalks</th>\n      <th>League</th>\n      <th>Division</th>\n      <th>PutOuts</th>\n      <th>Assists</th>\n      <th>Errors</th>\n      <th>Salary</th>\n      <th>NewLeague</th>\n    </tr>\n  </thead>\n  <tbody>\n    <tr>\n      <th>1</th>\n      <td>315</td>\n      <td>81</td>\n      <td>7</td>\n      <td>24</td>\n      <td>38</td>\n      <td>39</td>\n      <td>14</td>\n      <td>3449</td>\n      <td>835</td>\n      <td>69</td>\n      <td>321</td>\n      <td>414</td>\n      <td>375</td>\n      <td>N</td>\n      <td>W</td>\n      <td>632</td>\n      <td>43</td>\n      <td>10</td>\n      <td>475.0</td>\n      <td>N</td>\n    </tr>\n    <tr>\n      <th>2</th>\n      <td>479</td>\n      <td>130</td>\n      <td>18</td>\n      <td>66</td>\n      <td>72</td>\n      <td>76</td>\n      <td>3</td>\n      <td>1624</td>\n      <td>457</td>\n      <td>63</td>\n      <td>224</td>\n      <td>266</td>\n      <td>263</td>\n      <td>A</td>\n      <td>W</td>\n      <td>880</td>\n      <td>82</td>\n      <td>14</td>\n      <td>480.0</td>\n      <td>A</td>\n    </tr>\n    <tr>\n      <th>3</th>\n      <td>496</td>\n      <td>141</td>\n      <td>20</td>\n      <td>65</td>\n      <td>78</td>\n      <td>37</td>\n      <td>11</td>\n      <td>5628</td>\n      <td>1575</td>\n      <td>225</td>\n      <td>828</td>\n      <td>838</td>\n      <td>354</td>\n      <td>N</td>\n      <td>E</td>\n      <td>200</td>\n      <td>11</td>\n      <td>3</td>\n      <td>500.0</td>\n      <td>N</td>\n    </tr>\n    <tr>\n      <th>4</th>\n      <td>321</td>\n      <td>87</td>\n      <td>10</td>\n      <td>39</td>\n      <td>42</td>\n      <td>30</td>\n      <td>2</td>\n      <td>396</td>\n      <td>101</td>\n      <td>12</td>\n      <td>48</td>\n      <td>46</td>\n      <td>33</td>\n      <td>N</td>\n      <td>E</td>\n      <td>805</td>\n      <td>40</td>\n      <td>4</td>\n      <td>91.5</td>\n      <td>N</td>\n    </tr>\n    <tr>\n      <th>5</th>\n      <td>594</td>\n      <td>169</td>\n      <td>4</td>\n      <td>74</td>\n      <td>51</td>\n      <td>35</td>\n      <td>11</td>\n      <td>4408</td>\n      <td>1133</td>\n      <td>19</td>\n      <td>501</td>\n      <td>336</td>\n      <td>194</td>\n      <td>A</td>\n      <td>W</td>\n      <td>282</td>\n      <td>421</td>\n      <td>25</td>\n      <td>750.0</td>\n      <td>A</td>\n    </tr>\n  </tbody>\n</table>\n</div>"
     },
     "execution_count": 2,
     "metadata": {},
     "output_type": "execute_result"
    }
   ],
   "source": [
    "data = pd.read_csv(\"../Data/Hitters.csv\")\n",
    "df = data.copy()\n",
    "df = df.dropna()\n",
    "df.head()"
   ],
   "metadata": {
    "collapsed": false,
    "pycharm": {
     "name": "#%%\n"
    }
   }
  },
  {
   "cell_type": "code",
   "execution_count": 3,
   "outputs": [
    {
     "data": {
      "text/plain": "   League_A  League_N  Division_E  Division_W  NewLeague_A  NewLeague_N\n1         0         1           0           1            0            1\n2         1         0           0           1            1            0\n3         0         1           1           0            0            1\n4         0         1           1           0            0            1\n5         1         0           0           1            1            0",
      "text/html": "<div>\n<style scoped>\n    .dataframe tbody tr th:only-of-type {\n        vertical-align: middle;\n    }\n\n    .dataframe tbody tr th {\n        vertical-align: top;\n    }\n\n    .dataframe thead th {\n        text-align: right;\n    }\n</style>\n<table border=\"1\" class=\"dataframe\">\n  <thead>\n    <tr style=\"text-align: right;\">\n      <th></th>\n      <th>League_A</th>\n      <th>League_N</th>\n      <th>Division_E</th>\n      <th>Division_W</th>\n      <th>NewLeague_A</th>\n      <th>NewLeague_N</th>\n    </tr>\n  </thead>\n  <tbody>\n    <tr>\n      <th>1</th>\n      <td>0</td>\n      <td>1</td>\n      <td>0</td>\n      <td>1</td>\n      <td>0</td>\n      <td>1</td>\n    </tr>\n    <tr>\n      <th>2</th>\n      <td>1</td>\n      <td>0</td>\n      <td>0</td>\n      <td>1</td>\n      <td>1</td>\n      <td>0</td>\n    </tr>\n    <tr>\n      <th>3</th>\n      <td>0</td>\n      <td>1</td>\n      <td>1</td>\n      <td>0</td>\n      <td>0</td>\n      <td>1</td>\n    </tr>\n    <tr>\n      <th>4</th>\n      <td>0</td>\n      <td>1</td>\n      <td>1</td>\n      <td>0</td>\n      <td>0</td>\n      <td>1</td>\n    </tr>\n    <tr>\n      <th>5</th>\n      <td>1</td>\n      <td>0</td>\n      <td>0</td>\n      <td>1</td>\n      <td>1</td>\n      <td>0</td>\n    </tr>\n  </tbody>\n</table>\n</div>"
     },
     "execution_count": 3,
     "metadata": {},
     "output_type": "execute_result"
    }
   ],
   "source": [
    "dms = pd.get_dummies(df[['League', 'Division', 'NewLeague']])\n",
    "dms.head()"
   ],
   "metadata": {
    "collapsed": false,
    "pycharm": {
     "name": "#%%\n"
    }
   }
  },
  {
   "cell_type": "code",
   "execution_count": 4,
   "outputs": [],
   "source": [
    "X_ = df.drop([\"Salary\",\"League\",\"Division\",\"NewLeague\"],axis = 1).astype(\"float64\")"
   ],
   "metadata": {
    "collapsed": false,
    "pycharm": {
     "name": "#%%\n"
    }
   }
  },
  {
   "cell_type": "code",
   "execution_count": 5,
   "outputs": [],
   "source": [
    "y = df[\"Salary\"]"
   ],
   "metadata": {
    "collapsed": false,
    "pycharm": {
     "name": "#%%\n"
    }
   }
  },
  {
   "cell_type": "code",
   "execution_count": 6,
   "outputs": [
    {
     "data": {
      "text/plain": "   AtBat   Hits  HmRun  Runs   RBI  Walks  Years  CAtBat   CHits  CHmRun  \\\n1  315.0   81.0    7.0  24.0  38.0   39.0   14.0  3449.0   835.0    69.0   \n2  479.0  130.0   18.0  66.0  72.0   76.0    3.0  1624.0   457.0    63.0   \n3  496.0  141.0   20.0  65.0  78.0   37.0   11.0  5628.0  1575.0   225.0   \n4  321.0   87.0   10.0  39.0  42.0   30.0    2.0   396.0   101.0    12.0   \n5  594.0  169.0    4.0  74.0  51.0   35.0   11.0  4408.0  1133.0    19.0   \n\n   CRuns   CRBI  CWalks  PutOuts  Assists  Errors  \n1  321.0  414.0   375.0    632.0     43.0    10.0  \n2  224.0  266.0   263.0    880.0     82.0    14.0  \n3  828.0  838.0   354.0    200.0     11.0     3.0  \n4   48.0   46.0    33.0    805.0     40.0     4.0  \n5  501.0  336.0   194.0    282.0    421.0    25.0  ",
      "text/html": "<div>\n<style scoped>\n    .dataframe tbody tr th:only-of-type {\n        vertical-align: middle;\n    }\n\n    .dataframe tbody tr th {\n        vertical-align: top;\n    }\n\n    .dataframe thead th {\n        text-align: right;\n    }\n</style>\n<table border=\"1\" class=\"dataframe\">\n  <thead>\n    <tr style=\"text-align: right;\">\n      <th></th>\n      <th>AtBat</th>\n      <th>Hits</th>\n      <th>HmRun</th>\n      <th>Runs</th>\n      <th>RBI</th>\n      <th>Walks</th>\n      <th>Years</th>\n      <th>CAtBat</th>\n      <th>CHits</th>\n      <th>CHmRun</th>\n      <th>CRuns</th>\n      <th>CRBI</th>\n      <th>CWalks</th>\n      <th>PutOuts</th>\n      <th>Assists</th>\n      <th>Errors</th>\n    </tr>\n  </thead>\n  <tbody>\n    <tr>\n      <th>1</th>\n      <td>315.0</td>\n      <td>81.0</td>\n      <td>7.0</td>\n      <td>24.0</td>\n      <td>38.0</td>\n      <td>39.0</td>\n      <td>14.0</td>\n      <td>3449.0</td>\n      <td>835.0</td>\n      <td>69.0</td>\n      <td>321.0</td>\n      <td>414.0</td>\n      <td>375.0</td>\n      <td>632.0</td>\n      <td>43.0</td>\n      <td>10.0</td>\n    </tr>\n    <tr>\n      <th>2</th>\n      <td>479.0</td>\n      <td>130.0</td>\n      <td>18.0</td>\n      <td>66.0</td>\n      <td>72.0</td>\n      <td>76.0</td>\n      <td>3.0</td>\n      <td>1624.0</td>\n      <td>457.0</td>\n      <td>63.0</td>\n      <td>224.0</td>\n      <td>266.0</td>\n      <td>263.0</td>\n      <td>880.0</td>\n      <td>82.0</td>\n      <td>14.0</td>\n    </tr>\n    <tr>\n      <th>3</th>\n      <td>496.0</td>\n      <td>141.0</td>\n      <td>20.0</td>\n      <td>65.0</td>\n      <td>78.0</td>\n      <td>37.0</td>\n      <td>11.0</td>\n      <td>5628.0</td>\n      <td>1575.0</td>\n      <td>225.0</td>\n      <td>828.0</td>\n      <td>838.0</td>\n      <td>354.0</td>\n      <td>200.0</td>\n      <td>11.0</td>\n      <td>3.0</td>\n    </tr>\n    <tr>\n      <th>4</th>\n      <td>321.0</td>\n      <td>87.0</td>\n      <td>10.0</td>\n      <td>39.0</td>\n      <td>42.0</td>\n      <td>30.0</td>\n      <td>2.0</td>\n      <td>396.0</td>\n      <td>101.0</td>\n      <td>12.0</td>\n      <td>48.0</td>\n      <td>46.0</td>\n      <td>33.0</td>\n      <td>805.0</td>\n      <td>40.0</td>\n      <td>4.0</td>\n    </tr>\n    <tr>\n      <th>5</th>\n      <td>594.0</td>\n      <td>169.0</td>\n      <td>4.0</td>\n      <td>74.0</td>\n      <td>51.0</td>\n      <td>35.0</td>\n      <td>11.0</td>\n      <td>4408.0</td>\n      <td>1133.0</td>\n      <td>19.0</td>\n      <td>501.0</td>\n      <td>336.0</td>\n      <td>194.0</td>\n      <td>282.0</td>\n      <td>421.0</td>\n      <td>25.0</td>\n    </tr>\n  </tbody>\n</table>\n</div>"
     },
     "execution_count": 6,
     "metadata": {},
     "output_type": "execute_result"
    }
   ],
   "source": [
    "X_.head()\n"
   ],
   "metadata": {
    "collapsed": false,
    "pycharm": {
     "name": "#%%\n"
    }
   }
  },
  {
   "cell_type": "code",
   "execution_count": 7,
   "outputs": [
    {
     "data": {
      "text/plain": "   AtBat   Hits  HmRun  Runs   RBI  Walks  Years  CAtBat   CHits  CHmRun  \\\n1  315.0   81.0    7.0  24.0  38.0   39.0   14.0  3449.0   835.0    69.0   \n2  479.0  130.0   18.0  66.0  72.0   76.0    3.0  1624.0   457.0    63.0   \n3  496.0  141.0   20.0  65.0  78.0   37.0   11.0  5628.0  1575.0   225.0   \n4  321.0   87.0   10.0  39.0  42.0   30.0    2.0   396.0   101.0    12.0   \n5  594.0  169.0    4.0  74.0  51.0   35.0   11.0  4408.0  1133.0    19.0   \n\n   CRuns   CRBI  CWalks  PutOuts  Assists  Errors  League_N  Division_W  \\\n1  321.0  414.0   375.0    632.0     43.0    10.0         1           1   \n2  224.0  266.0   263.0    880.0     82.0    14.0         0           1   \n3  828.0  838.0   354.0    200.0     11.0     3.0         1           0   \n4   48.0   46.0    33.0    805.0     40.0     4.0         1           0   \n5  501.0  336.0   194.0    282.0    421.0    25.0         0           1   \n\n   NewLeague_N  \n1            1  \n2            0  \n3            1  \n4            1  \n5            0  ",
      "text/html": "<div>\n<style scoped>\n    .dataframe tbody tr th:only-of-type {\n        vertical-align: middle;\n    }\n\n    .dataframe tbody tr th {\n        vertical-align: top;\n    }\n\n    .dataframe thead th {\n        text-align: right;\n    }\n</style>\n<table border=\"1\" class=\"dataframe\">\n  <thead>\n    <tr style=\"text-align: right;\">\n      <th></th>\n      <th>AtBat</th>\n      <th>Hits</th>\n      <th>HmRun</th>\n      <th>Runs</th>\n      <th>RBI</th>\n      <th>Walks</th>\n      <th>Years</th>\n      <th>CAtBat</th>\n      <th>CHits</th>\n      <th>CHmRun</th>\n      <th>CRuns</th>\n      <th>CRBI</th>\n      <th>CWalks</th>\n      <th>PutOuts</th>\n      <th>Assists</th>\n      <th>Errors</th>\n      <th>League_N</th>\n      <th>Division_W</th>\n      <th>NewLeague_N</th>\n    </tr>\n  </thead>\n  <tbody>\n    <tr>\n      <th>1</th>\n      <td>315.0</td>\n      <td>81.0</td>\n      <td>7.0</td>\n      <td>24.0</td>\n      <td>38.0</td>\n      <td>39.0</td>\n      <td>14.0</td>\n      <td>3449.0</td>\n      <td>835.0</td>\n      <td>69.0</td>\n      <td>321.0</td>\n      <td>414.0</td>\n      <td>375.0</td>\n      <td>632.0</td>\n      <td>43.0</td>\n      <td>10.0</td>\n      <td>1</td>\n      <td>1</td>\n      <td>1</td>\n    </tr>\n    <tr>\n      <th>2</th>\n      <td>479.0</td>\n      <td>130.0</td>\n      <td>18.0</td>\n      <td>66.0</td>\n      <td>72.0</td>\n      <td>76.0</td>\n      <td>3.0</td>\n      <td>1624.0</td>\n      <td>457.0</td>\n      <td>63.0</td>\n      <td>224.0</td>\n      <td>266.0</td>\n      <td>263.0</td>\n      <td>880.0</td>\n      <td>82.0</td>\n      <td>14.0</td>\n      <td>0</td>\n      <td>1</td>\n      <td>0</td>\n    </tr>\n    <tr>\n      <th>3</th>\n      <td>496.0</td>\n      <td>141.0</td>\n      <td>20.0</td>\n      <td>65.0</td>\n      <td>78.0</td>\n      <td>37.0</td>\n      <td>11.0</td>\n      <td>5628.0</td>\n      <td>1575.0</td>\n      <td>225.0</td>\n      <td>828.0</td>\n      <td>838.0</td>\n      <td>354.0</td>\n      <td>200.0</td>\n      <td>11.0</td>\n      <td>3.0</td>\n      <td>1</td>\n      <td>0</td>\n      <td>1</td>\n    </tr>\n    <tr>\n      <th>4</th>\n      <td>321.0</td>\n      <td>87.0</td>\n      <td>10.0</td>\n      <td>39.0</td>\n      <td>42.0</td>\n      <td>30.0</td>\n      <td>2.0</td>\n      <td>396.0</td>\n      <td>101.0</td>\n      <td>12.0</td>\n      <td>48.0</td>\n      <td>46.0</td>\n      <td>33.0</td>\n      <td>805.0</td>\n      <td>40.0</td>\n      <td>4.0</td>\n      <td>1</td>\n      <td>0</td>\n      <td>1</td>\n    </tr>\n    <tr>\n      <th>5</th>\n      <td>594.0</td>\n      <td>169.0</td>\n      <td>4.0</td>\n      <td>74.0</td>\n      <td>51.0</td>\n      <td>35.0</td>\n      <td>11.0</td>\n      <td>4408.0</td>\n      <td>1133.0</td>\n      <td>19.0</td>\n      <td>501.0</td>\n      <td>336.0</td>\n      <td>194.0</td>\n      <td>282.0</td>\n      <td>421.0</td>\n      <td>25.0</td>\n      <td>0</td>\n      <td>1</td>\n      <td>0</td>\n    </tr>\n  </tbody>\n</table>\n</div>"
     },
     "execution_count": 7,
     "metadata": {},
     "output_type": "execute_result"
    }
   ],
   "source": [
    "X = pd.concat([X_,dms[['League_N','Division_W','NewLeague_N']]],axis=1)\n",
    "X.head()"
   ],
   "metadata": {
    "collapsed": false,
    "pycharm": {
     "name": "#%%\n"
    }
   }
  },
  {
   "cell_type": "code",
   "execution_count": 8,
   "outputs": [],
   "source": [
    "from sklearn.model_selection import train_test_split\n",
    "\n",
    "X_train,X_test,y_train,y_test = train_test_split(X,y,test_size=0.25,random_state=42)\n"
   ],
   "metadata": {
    "collapsed": false,
    "pycharm": {
     "name": "#%%\n"
    }
   }
  },
  {
   "cell_type": "raw",
   "source": [
    "The goal is to find the line or curve that can get the maximum point in a margin range with the smallest error.\n",
    "given for the classification problem, then adapted to regression.\n",
    "robas, durable."
   ],
   "metadata": {
    "collapsed": false,
    "pycharm": {
     "name": "#%% raw\n"
    }
   }
  },
  {
   "cell_type": "code",
   "execution_count": 10,
   "outputs": [],
   "source": [
    "X_train = pd.DataFrame(X_train[\"Hits\"])\n",
    "X_test = pd.DataFrame(X_test[\"Hits\"])"
   ],
   "metadata": {
    "collapsed": false,
    "pycharm": {
     "name": "#%%\n"
    }
   }
  },
  {
   "cell_type": "code",
   "execution_count": 11,
   "outputs": [],
   "source": [
    "from sklearn.svm import SVR"
   ],
   "metadata": {
    "collapsed": false,
    "pycharm": {
     "name": "#%%\n"
    }
   }
  },
  {
   "cell_type": "code",
   "execution_count": 26,
   "outputs": [
    {
     "data": {
      "text/plain": "array([425.8774565 , 473.63824033, 476.47710623, 413.78568212,\n       429.45190442, 473.63824033, 417.64190281, 413.5990189 ,\n       446.7239316 , 474.55897329, 475.55663311, 476.47710623,\n       477.24811996, 452.96545452, 477.34299855, 457.93759938,\n       472.07648873, 418.16527196, 437.99864769, 427.62907737,\n       477.17981833, 430.38777898, 437.30629282, 418.4152018 ,\n       412.4747669 , 440.41244213, 444.61579812, 415.64225404,\n       421.85415716, 418.16527196, 419.25578724, 453.98173694,\n       474.93262117, 412.14564223, 412.3281136 , 419.05208381,\n       421.11676754, 475.55663311, 437.30629282, 412.4747669 ,\n       417.13465824, 411.84551261, 412.02520153, 413.78568212,\n       411.93478188, 477.34573373, 473.63824033, 451.94044802,\n       414.32550545, 416.64466025, 420.4035087 , 476.47710623,\n       470.25844941, 472.62616852, 465.91471038, 468.19862331,\n       416.66700034, 475.6431516 , 421.85415716, 476.23014159,\n       453.98173694, 436.28555067, 419.05208381, 456.96719575,\n       442.50897247, 475.2452224 , 412.04090493, 418.4152018 ,\n       412.02520153, 412.4747669 , 412.74205701, 413.28210026,\n       476.11171747, 474.53140666, 448.4298198 , 416.14022379,\n       461.66746629, 447.77565764, 460.75979585, 472.95869355,\n       476.35376519, 465.1070968 , 476.11171747, 428.53203317,\n       414.87861077, 420.4035087 , 476.87798313, 475.95214147,\n       477.17981833, 470.10834058, 415.64225404, 414.49067108,\n       469.07165479, 416.66700034, 425.03051   , 474.55897329,\n       473.3848274 , 428.53203317, 462.55696572, 435.27389785,\n       477.17981833, 412.91799703, 463.42734655, 435.27389785,\n       442.50897247, 462.55696572, 476.35376519, 446.7239316 ,\n       412.14564223, 460.75979585, 455.2285531 , 465.1070968 ,\n       416.66700034, 468.91106774, 417.80501718, 422.61497039,\n       475.84574148, 465.1070968 , 435.27389785, 411.84728648,\n       468.19862331, 422.18225484, 470.89211192, 427.62907737,\n       413.18087734, 465.91471038, 472.62616852, 418.4152018 ,\n       411.84551261, 477.34299855, 412.29566204, 416.14022379,\n       459.83492698, 472.07648873, 474.93262117, 421.11676754,\n       426.74392843, 416.17300514, 430.38777898, 476.11171747,\n       414.32550545, 426.74392843, 412.16865609, 453.98173694,\n       416.17300514, 414.49067108, 411.94482404, 447.77565764,\n       419.7150623 , 456.96719575, 437.30629282, 412.68241095,\n       412.3281136 , 416.17300514, 471.49830435, 412.14564223,\n       477.31057181, 412.74205701, 456.07661291, 451.94044802,\n       416.14022379, 437.30629282, 477.17981833, 412.68241095,\n       428.53203317, 477.17981833, 431.33872452, 415.64225404,\n       472.51685131, 461.66746629, 457.93759938, 413.94691029,\n       477.24811996, 435.27389785, 426.74392843, 413.28210026,\n       470.89211192, 464.27768783, 418.4152018 , 461.66746629,\n       426.74392843, 413.28210026, 418.16527196, 438.33506986,\n       413.28210026, 416.14022379, 474.09985373, 449.86874596,\n       435.27389785, 412.74205701, 436.28555067, 475.84574148,\n       476.35376519, 412.91799703, 470.25844941, 437.30629282,\n       433.28200195])"
     },
     "execution_count": 26,
     "metadata": {},
     "output_type": "execute_result"
    }
   ],
   "source": [
    "svr_model = SVR(\"rbf\").fit(X_train,y_train)\n",
    "svr_model.predict(X_train)"
   ],
   "metadata": {
    "collapsed": false,
    "pycharm": {
     "name": "#%%\n"
    }
   }
  },
  {
   "cell_type": "code",
   "execution_count": 28,
   "outputs": [],
   "source": [
    "y_pred = svr_model.predict(X_train)"
   ],
   "metadata": {
    "collapsed": false,
    "pycharm": {
     "name": "#%%\n"
    }
   }
  },
  {
   "cell_type": "code",
   "execution_count": 29,
   "outputs": [
    {
     "data": {
      "text/plain": "<Figure size 432x288 with 1 Axes>",
      "image/png": "[encoded data removed]"
     },
     "metadata": {
      "needs_background": "light"
     },
     "output_type": "display_data"
    }
   ],
   "source": [
    "plt.scatter(X_train, y_train)\n",
    "plt.plot(X_train,y_pred, color = \"r\");"
   ],
   "metadata": {
    "collapsed": false,
    "pycharm": {
     "name": "#%%\n"
    }
   }
  },
  {
   "cell_type": "code",
   "execution_count": 30,
   "outputs": [],
   "source": [
    "y_pred = svr_model.predict(X_test)"
   ],
   "metadata": {
    "collapsed": false,
    "pycharm": {
     "name": "#%%\n"
    }
   }
  },
  {
   "cell_type": "code",
   "execution_count": 31,
   "outputs": [
    {
     "data": {
      "text/plain": "462.64750060465025"
     },
     "execution_count": 31,
     "metadata": {},
     "output_type": "execute_result"
    }
   ],
   "source": [
    "np.sqrt(mean_squared_error(y_test, y_pred))"
   ],
   "metadata": {
    "collapsed": false,
    "pycharm": {
     "name": "#%%\n"
    }
   }
  },
  {
   "cell_type": "code",
   "execution_count": 32,
   "outputs": [],
   "source": [
    "svr_params = {\"C\": np.arange(0.1,2,0.1)}\n",
    "svr_cv_model = GridSearchCV(svr_model, svr_params, cv = 10).fit(X_train,y_train)"
   ],
   "metadata": {
    "collapsed": false,
    "pycharm": {
     "name": "#%%\n"
    }
   }
  },
  {
   "cell_type": "code",
   "execution_count": 36,
   "outputs": [],
   "source": [
    "svr_tuned = SVR(\"rbf\",\n",
    "                C = pd.Series(svr_cv_model.best_params_)[0]).fit(X_train, y_train)"
   ],
   "metadata": {
    "collapsed": false,
    "pycharm": {
     "name": "#%%\n"
    }
   }
  },
  {
   "cell_type": "code",
   "execution_count": 37,
   "outputs": [],
   "source": [
    "y_pred = svr_tuned.predict(X_test)"
   ],
   "metadata": {
    "collapsed": false,
    "pycharm": {
     "name": "#%%\n"
    }
   }
  },
  {
   "cell_type": "code",
   "execution_count": 38,
   "outputs": [
    {
     "data": {
      "text/plain": "457.04202564420206"
     },
     "execution_count": 38,
     "metadata": {},
     "output_type": "execute_result"
    }
   ],
   "source": [
    "np.sqrt(mean_squared_error(y_test,y_pred))"
   ],
   "metadata": {
    "collapsed": false,
    "pycharm": {
     "name": "#%%\n"
    }
   }
  },
  {
   "cell_type": "code",
   "execution_count": null,
   "outputs": [],
   "source": [],
   "metadata": {
    "collapsed": false,
    "pycharm": {
     "name": "#%%\n"
    }
   }
  }
 ],
 "metadata": {
  "kernelspec": {
   "display_name": "Python 3",
   "language": "python",
   "name": "python3"
  },
  "language_info": {
   "codemirror_mode": {
    "name": "ipython",
    "version": 2
   },
   "file_extension": ".py",
   "mimetype": "text/x-python",
   "name": "python",
   "nbconvert_exporter": "python",
   "pygments_lexer": "ipython2",
   "version": "2.7.6"
  }
 },
 "nbformat": 4,
 "nbformat_minor": 0
}