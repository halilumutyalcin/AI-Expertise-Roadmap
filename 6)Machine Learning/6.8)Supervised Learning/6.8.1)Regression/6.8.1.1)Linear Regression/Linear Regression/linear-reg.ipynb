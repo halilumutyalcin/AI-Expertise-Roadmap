{
 "cells": [
  {
   "cell_type": "code",
   "execution_count": 18,
   "outputs": [],
   "source": [
    "import pandas as pd\n",
    "import numpy as np\n",
    "\n",
    "from warnings import filterwarnings\n",
    "filterwarnings('ignore')"
   ],
   "metadata": {
    "collapsed": false,
    "pycharm": {
     "name": "#%%\n"
    }
   }
  },
  {
   "cell_type": "raw",
   "source": [
    "Linear regression aims to determine how one variable (dependent variable) affects another variable (independent variable) in a data set. To determine this effect, a linear curve is created that measures the relationship between two variables.\n",
    "\n",
    "The most important use of linear regression is to estimate the value of a variable or to understand how one variable is affected by another variable. For example, linear regression can be used to understand the relationship between a company's sales volume and its advertising budget.\n",
    "\n",
    "When constructing a linear regression model, it is important to find the most suitable linear curve. This curve is found using the least squares method in the dataset. This method is used to find the linear curve that best fits the dataset, and the conditions of this curve minimize the deviations of the data in the dataset.\n",
    "\n",
    "The linear regression method can be used on a large number of datasets. However, the accuracy of this method depends on the data in the dataset showing a linear relationship. If the data do not show a linear relationship, the linear regression method cannot be used and a different method should be preferred.\n"
   ],
   "metadata": {
    "collapsed": false,
    "pycharm": {
     "name": "#%% raw\n"
    }
   }
  },
  {
   "cell_type": "code",
   "execution_count": 12,
   "outputs": [],
   "source": [
    "data = pd.read_csv(\"../Data/Advertising.csv\")\n",
    "df = data.copy()"
   ],
   "metadata": {
    "collapsed": false,
    "pycharm": {
     "name": "#%%\n"
    }
   }
  },
  {
   "cell_type": "code",
   "execution_count": 14,
   "outputs": [
    {
     "data": {
      "text/plain": "   Unnamed: 0     TV  radio  newspaper  sales\n0           1  230.1   37.8       69.2   22.1\n1           2   44.5   39.3       45.1   10.4\n2           3   17.2   45.9       69.3    9.3\n3           4  151.5   41.3       58.5   18.5\n4           5  180.8   10.8       58.4   12.9",
      "text/html": "<div>\n<style scoped>\n    .dataframe tbody tr th:only-of-type {\n        vertical-align: middle;\n    }\n\n    .dataframe tbody tr th {\n        vertical-align: top;\n    }\n\n    .dataframe thead th {\n        text-align: right;\n    }\n</style>\n<table border=\"1\" class=\"dataframe\">\n  <thead>\n    <tr style=\"text-align: right;\">\n      <th></th>\n      <th>Unnamed: 0</th>\n      <th>TV</th>\n      <th>radio</th>\n      <th>newspaper</th>\n      <th>sales</th>\n    </tr>\n  </thead>\n  <tbody>\n    <tr>\n      <th>0</th>\n      <td>1</td>\n      <td>230.1</td>\n      <td>37.8</td>\n      <td>69.2</td>\n      <td>22.1</td>\n    </tr>\n    <tr>\n      <th>1</th>\n      <td>2</td>\n      <td>44.5</td>\n      <td>39.3</td>\n      <td>45.1</td>\n      <td>10.4</td>\n    </tr>\n    <tr>\n      <th>2</th>\n      <td>3</td>\n      <td>17.2</td>\n      <td>45.9</td>\n      <td>69.3</td>\n      <td>9.3</td>\n    </tr>\n    <tr>\n      <th>3</th>\n      <td>4</td>\n      <td>151.5</td>\n      <td>41.3</td>\n      <td>58.5</td>\n      <td>18.5</td>\n    </tr>\n    <tr>\n      <th>4</th>\n      <td>5</td>\n      <td>180.8</td>\n      <td>10.8</td>\n      <td>58.4</td>\n      <td>12.9</td>\n    </tr>\n  </tbody>\n</table>\n</div>"
     },
     "execution_count": 14,
     "metadata": {},
     "output_type": "execute_result"
    }
   ],
   "source": [
    "df.head()"
   ],
   "metadata": {
    "collapsed": false,
    "pycharm": {
     "name": "#%%\n"
    }
   }
  },
  {
   "cell_type": "code",
   "execution_count": 15,
   "outputs": [],
   "source": [
    "del df['Unnamed: 0']"
   ],
   "metadata": {
    "collapsed": false,
    "pycharm": {
     "name": "#%%\n"
    }
   }
  },
  {
   "cell_type": "code",
   "execution_count": 16,
   "outputs": [
    {
     "data": {
      "text/plain": "        TV  radio  newspaper  sales\n0    230.1   37.8       69.2   22.1\n1     44.5   39.3       45.1   10.4\n2     17.2   45.9       69.3    9.3\n3    151.5   41.3       58.5   18.5\n4    180.8   10.8       58.4   12.9\n..     ...    ...        ...    ...\n195   38.2    3.7       13.8    7.6\n196   94.2    4.9        8.1    9.7\n197  177.0    9.3        6.4   12.8\n198  283.6   42.0       66.2   25.5\n199  232.1    8.6        8.7   13.4\n\n[200 rows x 4 columns]",
      "text/html": "<div>\n<style scoped>\n    .dataframe tbody tr th:only-of-type {\n        vertical-align: middle;\n    }\n\n    .dataframe tbody tr th {\n        vertical-align: top;\n    }\n\n    .dataframe thead th {\n        text-align: right;\n    }\n</style>\n<table border=\"1\" class=\"dataframe\">\n  <thead>\n    <tr style=\"text-align: right;\">\n      <th></th>\n      <th>TV</th>\n      <th>radio</th>\n      <th>newspaper</th>\n      <th>sales</th>\n    </tr>\n  </thead>\n  <tbody>\n    <tr>\n      <th>0</th>\n      <td>230.1</td>\n      <td>37.8</td>\n      <td>69.2</td>\n      <td>22.1</td>\n    </tr>\n    <tr>\n      <th>1</th>\n      <td>44.5</td>\n      <td>39.3</td>\n      <td>45.1</td>\n      <td>10.4</td>\n    </tr>\n    <tr>\n      <th>2</th>\n      <td>17.2</td>\n      <td>45.9</td>\n      <td>69.3</td>\n      <td>9.3</td>\n    </tr>\n    <tr>\n      <th>3</th>\n      <td>151.5</td>\n      <td>41.3</td>\n      <td>58.5</td>\n      <td>18.5</td>\n    </tr>\n    <tr>\n      <th>4</th>\n      <td>180.8</td>\n      <td>10.8</td>\n      <td>58.4</td>\n      <td>12.9</td>\n    </tr>\n    <tr>\n      <th>...</th>\n      <td>...</td>\n      <td>...</td>\n      <td>...</td>\n      <td>...</td>\n    </tr>\n    <tr>\n      <th>195</th>\n      <td>38.2</td>\n      <td>3.7</td>\n      <td>13.8</td>\n      <td>7.6</td>\n    </tr>\n    <tr>\n      <th>196</th>\n      <td>94.2</td>\n      <td>4.9</td>\n      <td>8.1</td>\n      <td>9.7</td>\n    </tr>\n    <tr>\n      <th>197</th>\n      <td>177.0</td>\n      <td>9.3</td>\n      <td>6.4</td>\n      <td>12.8</td>\n    </tr>\n    <tr>\n      <th>198</th>\n      <td>283.6</td>\n      <td>42.0</td>\n      <td>66.2</td>\n      <td>25.5</td>\n    </tr>\n    <tr>\n      <th>199</th>\n      <td>232.1</td>\n      <td>8.6</td>\n      <td>8.7</td>\n      <td>13.4</td>\n    </tr>\n  </tbody>\n</table>\n<p>200 rows × 4 columns</p>\n</div>"
     },
     "execution_count": 16,
     "metadata": {},
     "output_type": "execute_result"
    }
   ],
   "source": [
    "df"
   ],
   "metadata": {
    "collapsed": false,
    "pycharm": {
     "name": "#%%\n"
    }
   }
  },
  {
   "cell_type": "code",
   "execution_count": 17,
   "outputs": [
    {
     "name": "stdout",
     "output_type": "stream",
     "text": [
      "<class 'pandas.core.frame.DataFrame'>\n",
      "RangeIndex: 200 entries, 0 to 199\n",
      "Data columns (total 4 columns):\n",
      " #   Column     Non-Null Count  Dtype  \n",
      "---  ------     --------------  -----  \n",
      " 0   TV         200 non-null    float64\n",
      " 1   radio      200 non-null    float64\n",
      " 2   newspaper  200 non-null    float64\n",
      " 3   sales      200 non-null    float64\n",
      "dtypes: float64(4)\n",
      "memory usage: 6.4 KB\n"
     ]
    }
   ],
   "source": [
    "df.info()"
   ],
   "metadata": {
    "collapsed": false,
    "pycharm": {
     "name": "#%%\n"
    }
   }
  },
  {
   "cell_type": "code",
   "execution_count": 19,
   "outputs": [
    {
     "data": {
      "text/plain": "           count      mean        std  min     25%     50%      75%    max\nTV         200.0  147.0425  85.854236  0.7  74.375  149.75  218.825  296.4\nradio      200.0   23.2640  14.846809  0.0   9.975   22.90   36.525   49.6\nnewspaper  200.0   30.5540  21.778621  0.3  12.750   25.75   45.100  114.0\nsales      200.0   14.0225   5.217457  1.6  10.375   12.90   17.400   27.0",
      "text/html": "<div>\n<style scoped>\n    .dataframe tbody tr th:only-of-type {\n        vertical-align: middle;\n    }\n\n    .dataframe tbody tr th {\n        vertical-align: top;\n    }\n\n    .dataframe thead th {\n        text-align: right;\n    }\n</style>\n<table border=\"1\" class=\"dataframe\">\n  <thead>\n    <tr style=\"text-align: right;\">\n      <th></th>\n      <th>count</th>\n      <th>mean</th>\n      <th>std</th>\n      <th>min</th>\n      <th>25%</th>\n      <th>50%</th>\n      <th>75%</th>\n      <th>max</th>\n    </tr>\n  </thead>\n  <tbody>\n    <tr>\n      <th>TV</th>\n      <td>200.0</td>\n      <td>147.0425</td>\n      <td>85.854236</td>\n      <td>0.7</td>\n      <td>74.375</td>\n      <td>149.75</td>\n      <td>218.825</td>\n      <td>296.4</td>\n    </tr>\n    <tr>\n      <th>radio</th>\n      <td>200.0</td>\n      <td>23.2640</td>\n      <td>14.846809</td>\n      <td>0.0</td>\n      <td>9.975</td>\n      <td>22.90</td>\n      <td>36.525</td>\n      <td>49.6</td>\n    </tr>\n    <tr>\n      <th>newspaper</th>\n      <td>200.0</td>\n      <td>30.5540</td>\n      <td>21.778621</td>\n      <td>0.3</td>\n      <td>12.750</td>\n      <td>25.75</td>\n      <td>45.100</td>\n      <td>114.0</td>\n    </tr>\n    <tr>\n      <th>sales</th>\n      <td>200.0</td>\n      <td>14.0225</td>\n      <td>5.217457</td>\n      <td>1.6</td>\n      <td>10.375</td>\n      <td>12.90</td>\n      <td>17.400</td>\n      <td>27.0</td>\n    </tr>\n  </tbody>\n</table>\n</div>"
     },
     "execution_count": 19,
     "metadata": {},
     "output_type": "execute_result"
    }
   ],
   "source": [
    "df.describe().T"
   ],
   "metadata": {
    "collapsed": false,
    "pycharm": {
     "name": "#%%\n"
    }
   }
  },
  {
   "cell_type": "code",
   "execution_count": 20,
   "outputs": [
    {
     "data": {
      "text/plain": "                 TV     radio  newspaper     sales\nTV         1.000000  0.054809   0.056648  0.782224\nradio      0.054809  1.000000   0.354104  0.576223\nnewspaper  0.056648  0.354104   1.000000  0.228299\nsales      0.782224  0.576223   0.228299  1.000000",
      "text/html": "<div>\n<style scoped>\n    .dataframe tbody tr th:only-of-type {\n        vertical-align: middle;\n    }\n\n    .dataframe tbody tr th {\n        vertical-align: top;\n    }\n\n    .dataframe thead th {\n        text-align: right;\n    }\n</style>\n<table border=\"1\" class=\"dataframe\">\n  <thead>\n    <tr style=\"text-align: right;\">\n      <th></th>\n      <th>TV</th>\n      <th>radio</th>\n      <th>newspaper</th>\n      <th>sales</th>\n    </tr>\n  </thead>\n  <tbody>\n    <tr>\n      <th>TV</th>\n      <td>1.000000</td>\n      <td>0.054809</td>\n      <td>0.056648</td>\n      <td>0.782224</td>\n    </tr>\n    <tr>\n      <th>radio</th>\n      <td>0.054809</td>\n      <td>1.000000</td>\n      <td>0.354104</td>\n      <td>0.576223</td>\n    </tr>\n    <tr>\n      <th>newspaper</th>\n      <td>0.056648</td>\n      <td>0.354104</td>\n      <td>1.000000</td>\n      <td>0.228299</td>\n    </tr>\n    <tr>\n      <th>sales</th>\n      <td>0.782224</td>\n      <td>0.576223</td>\n      <td>0.228299</td>\n      <td>1.000000</td>\n    </tr>\n  </tbody>\n</table>\n</div>"
     },
     "execution_count": 20,
     "metadata": {},
     "output_type": "execute_result"
    }
   ],
   "source": [
    "df.corr()"
   ],
   "metadata": {
    "collapsed": false,
    "pycharm": {
     "name": "#%%\n"
    }
   }
  },
  {
   "cell_type": "code",
   "execution_count": 22,
   "outputs": [],
   "source": [
    "from sklearn.linear_model import LinearRegression"
   ],
   "metadata": {
    "collapsed": false,
    "pycharm": {
     "name": "#%%\n"
    }
   }
  },
  {
   "cell_type": "code",
   "execution_count": 23,
   "outputs": [],
   "source": [
    "X = df[[\"TV\"]]\n",
    "y = df[\"sales\"]\n",
    "reg = LinearRegression()\n",
    "model = reg.fit(X, y)\n"
   ],
   "metadata": {
    "collapsed": false,
    "pycharm": {
     "name": "#%%\n"
    }
   }
  },
  {
   "cell_type": "code",
   "execution_count": 25,
   "outputs": [
    {
     "data": {
      "text/plain": "7.032593549127695"
     },
     "execution_count": 25,
     "metadata": {},
     "output_type": "execute_result"
    }
   ],
   "source": [
    "model.intercept_ #beta0"
   ],
   "metadata": {
    "collapsed": false,
    "pycharm": {
     "name": "#%%\n"
    }
   }
  },
  {
   "cell_type": "code",
   "execution_count": 26,
   "outputs": [
    {
     "data": {
      "text/plain": "array([0.04753664])"
     },
     "execution_count": 26,
     "metadata": {},
     "output_type": "execute_result"
    }
   ],
   "source": [
    "model.coef_"
   ],
   "metadata": {
    "collapsed": false,
    "pycharm": {
     "name": "#%%\n"
    }
   }
  },
  {
   "cell_type": "code",
   "execution_count": 27,
   "outputs": [
    {
     "data": {
      "text/plain": "0.611875050850071"
     },
     "execution_count": 27,
     "metadata": {},
     "output_type": "execute_result"
    }
   ],
   "source": [
    "model.score(X,y) # r2 score"
   ],
   "metadata": {
    "collapsed": false,
    "pycharm": {
     "name": "#%%\n"
    }
   }
  },
  {
   "cell_type": "code",
   "execution_count": 29,
   "outputs": [
    {
     "data": {
      "text/plain": "array([17.97077451,  9.14797405,  7.85022376, 14.23439457, 15.62721814,\n        7.44616232,  9.76595037, 12.74649773,  7.44140866, 16.53041431,\n       10.17476548, 17.23871025,  8.16396559, 11.66741599, 16.73482186,\n       16.32125309, 10.25557777, 20.40940417, 10.32212907, 14.03474068,\n       17.41459582, 18.31779199,  7.6600772 , 17.88520856,  9.99412625,\n       19.52997632, 13.82557947, 18.44614092, 18.85970969, 10.38868036,\n       20.95607553, 12.39948025, 11.653155  , 19.65832525, 11.58185004,\n       20.85149492, 19.72012288, 10.58358059,  9.08142275, 17.87094757,\n       16.65876324, 15.44657891, 20.98935118, 16.86792445,  8.22576322,\n       15.35625929, 11.2966302 , 18.43663359, 17.83291826, 10.21279479,\n       16.53041431, 11.80527225, 17.31952254, 15.71278409, 19.52046899,\n       16.48763133,  7.37961102, 13.50708398, 17.05331735, 17.04856369,\n        9.57580381, 19.45391769, 18.4081116 , 11.91460652, 13.26464711,\n       10.31262174,  8.52999772, 13.65444756, 18.31779199, 17.3385372 ,\n       16.49713866, 12.25211667,  8.30657551, 13.18383482, 17.17691262,\n        7.83596277,  8.33985116, 12.76075872,  7.28929141, 12.54684384,\n       10.66439288, 18.43187992, 10.61210257, 10.28409975, 17.18166628,\n       16.21667248, 10.65963921, 12.29489965, 11.2300789 , 12.25211667,\n       13.41676436,  8.39214147, 17.38132017, 18.95953663, 12.13802873,\n       14.79532693, 16.4258337 , 15.82211837, 20.80395828, 13.45954734,\n       17.60474238, 21.12245377, 20.3523602 , 15.96472829, 18.3558213 ,\n       13.58789626,  8.22100956, 11.32990584,  7.65532354, 19.17345152,\n       17.76636696, 18.52219954, 15.38478127, 16.99627338, 10.74995883,\n       10.60259525, 13.6496939 , 10.66439288, 13.00794925,  7.95480437,\n       13.74952084,  7.92628239, 17.68080101, 12.88435399, 17.94225253,\n       11.17778859,  7.40337934, 10.84503211, 17.50491544,  9.86577732,\n        7.0658692 , 19.63931059,  7.43190133, 17.48114712,  8.78669558,\n        9.32861328,  8.24953154, 20.04337204,  9.07666909, 15.82211837,\n       10.52178296, 16.2404408 , 17.51442276, 12.00492614, 11.60561836,\n       13.7019842 , 18.44614092, 18.5935045 ,  8.83898589,  9.15748138,\n       20.37612852, 12.78452704, 16.4258337 , 15.17562006, 15.95997462,\n        7.22749377, 11.49628409, 14.15358229,  7.58877224, 13.29316909,\n       15.23266402, 11.10648363, 15.98849661, 14.80483426, 12.60388781,\n       18.17993573,  7.88349941, 16.86317079, 17.2719859 , 20.54726042,\n        9.40942557, 14.8523709 ,  7.9643117 , 15.0377638 , 17.60474238,\n       20.19548929, 18.84069503, 15.12332975, 20.18598196, 14.9046612 ,\n       14.47683144, 17.41934948,  9.70415274, 20.70413134, 19.09739289,\n       16.77760484, 13.66395489, 16.11684554, 20.62807271,  7.92152873,\n        8.91029085, 10.6216099 ,  7.85022376, 14.96170517, 14.14882862,\n        8.84849321, 11.51054508, 15.44657891, 20.51398478, 18.06584779])"
     },
     "execution_count": 29,
     "metadata": {},
     "output_type": "execute_result"
    }
   ],
   "source": [
    "model.predict(X)"
   ],
   "metadata": {
    "collapsed": false,
    "pycharm": {
     "name": "#%%\n"
    }
   }
  }
 ],
 "metadata": {
  "kernelspec": {
   "display_name": "Python 3",
   "language": "python",
   "name": "python3"
  },
  "language_info": {
   "codemirror_mode": {
    "name": "ipython",
    "version": 2
   },
   "file_extension": ".py",
   "mimetype": "text/x-python",
   "name": "python",
   "nbconvert_exporter": "python",
   "pygments_lexer": "ipython2",
   "version": "2.7.6"
  }
 },
 "nbformat": 4,
 "nbformat_minor": 0
}