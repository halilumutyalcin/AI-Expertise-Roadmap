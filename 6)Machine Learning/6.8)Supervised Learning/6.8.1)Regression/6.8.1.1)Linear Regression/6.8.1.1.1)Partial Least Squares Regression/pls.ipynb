{
 "cells": [
  {
   "cell_type": "code",
   "execution_count": 1,
   "outputs": [],
   "source": [
    "import pandas as pd\n",
    "import numpy as np\n",
    "\n",
    "from warnings import filterwarnings\n",
    "\n",
    "filterwarnings('ignore')"
   ],
   "metadata": {
    "collapsed": false,
    "pycharm": {
     "name": "#%%\n"
    }
   }
  },
  {
   "cell_type": "raw",
   "source": [
    "Partial least squares regression (PLS) is a statistical method used to analyze the relationship between a dependent variable and one or more independent variables. It is similar to multiple regression, but instead of finding the best fitting line to represent the relationship between the dependent and independent variables, PLS finds the best fitting plane.\n",
    "\n",
    "PLS is particularly useful when the number of independent variables is large compared to the number of observations, or when there is multicollinearity (high correlation between independent variables). It is also useful when the dependent variable is a matrix, rather than a single variable.\n",
    "\n",
    "PLS works by projecting both the independent and dependent variables onto a new set of latent variables (latent meaning \"hidden\"), which are then used to predict the dependent variable. The number of latent variables used is typically less than the number of independent variables, which helps to reduce the complexity of the model.\n",
    "\n",
    "PLS is often used in the field of chemometrics, where it is used to analyze the relationship between chemical compounds and some response variable (such as the concentration of a chemical in a sample). It is also used in the social sciences and economics to analyze the relationship between variables in large datasets."
   ],
   "metadata": {
    "collapsed": false,
    "pycharm": {
     "name": "#%% raw\n"
    }
   }
  },
  {
   "cell_type": "code",
   "execution_count": 2,
   "outputs": [
    {
     "data": {
      "text/plain": "   AtBat  Hits  HmRun  Runs  RBI  Walks  Years  CAtBat  CHits  CHmRun  CRuns  \\\n0    293    66      1    30   29     14      1     293     66       1     30   \n1    315    81      7    24   38     39     14    3449    835      69    321   \n2    479   130     18    66   72     76      3    1624    457      63    224   \n3    496   141     20    65   78     37     11    5628   1575     225    828   \n4    321    87     10    39   42     30      2     396    101      12     48   \n\n   CRBI  CWalks League Division  PutOuts  Assists  Errors  Salary NewLeague  \n0    29      14      A        E      446       33      20     NaN         A  \n1   414     375      N        W      632       43      10   475.0         N  \n2   266     263      A        W      880       82      14   480.0         A  \n3   838     354      N        E      200       11       3   500.0         N  \n4    46      33      N        E      805       40       4    91.5         N  ",
      "text/html": "<div>\n<style scoped>\n    .dataframe tbody tr th:only-of-type {\n        vertical-align: middle;\n    }\n\n    .dataframe tbody tr th {\n        vertical-align: top;\n    }\n\n    .dataframe thead th {\n        text-align: right;\n    }\n</style>\n<table border=\"1\" class=\"dataframe\">\n  <thead>\n    <tr style=\"text-align: right;\">\n      <th></th>\n      <th>AtBat</th>\n      <th>Hits</th>\n      <th>HmRun</th>\n      <th>Runs</th>\n      <th>RBI</th>\n      <th>Walks</th>\n      <th>Years</th>\n      <th>CAtBat</th>\n      <th>CHits</th>\n      <th>CHmRun</th>\n      <th>CRuns</th>\n      <th>CRBI</th>\n      <th>CWalks</th>\n      <th>League</th>\n      <th>Division</th>\n      <th>PutOuts</th>\n      <th>Assists</th>\n      <th>Errors</th>\n      <th>Salary</th>\n      <th>NewLeague</th>\n    </tr>\n  </thead>\n  <tbody>\n    <tr>\n      <th>0</th>\n      <td>293</td>\n      <td>66</td>\n      <td>1</td>\n      <td>30</td>\n      <td>29</td>\n      <td>14</td>\n      <td>1</td>\n      <td>293</td>\n      <td>66</td>\n      <td>1</td>\n      <td>30</td>\n      <td>29</td>\n      <td>14</td>\n      <td>A</td>\n      <td>E</td>\n      <td>446</td>\n      <td>33</td>\n      <td>20</td>\n      <td>NaN</td>\n      <td>A</td>\n    </tr>\n    <tr>\n      <th>1</th>\n      <td>315</td>\n      <td>81</td>\n      <td>7</td>\n      <td>24</td>\n      <td>38</td>\n      <td>39</td>\n      <td>14</td>\n      <td>3449</td>\n      <td>835</td>\n      <td>69</td>\n      <td>321</td>\n      <td>414</td>\n      <td>375</td>\n      <td>N</td>\n      <td>W</td>\n      <td>632</td>\n      <td>43</td>\n      <td>10</td>\n      <td>475.0</td>\n      <td>N</td>\n    </tr>\n    <tr>\n      <th>2</th>\n      <td>479</td>\n      <td>130</td>\n      <td>18</td>\n      <td>66</td>\n      <td>72</td>\n      <td>76</td>\n      <td>3</td>\n      <td>1624</td>\n      <td>457</td>\n      <td>63</td>\n      <td>224</td>\n      <td>266</td>\n      <td>263</td>\n      <td>A</td>\n      <td>W</td>\n      <td>880</td>\n      <td>82</td>\n      <td>14</td>\n      <td>480.0</td>\n      <td>A</td>\n    </tr>\n    <tr>\n      <th>3</th>\n      <td>496</td>\n      <td>141</td>\n      <td>20</td>\n      <td>65</td>\n      <td>78</td>\n      <td>37</td>\n      <td>11</td>\n      <td>5628</td>\n      <td>1575</td>\n      <td>225</td>\n      <td>828</td>\n      <td>838</td>\n      <td>354</td>\n      <td>N</td>\n      <td>E</td>\n      <td>200</td>\n      <td>11</td>\n      <td>3</td>\n      <td>500.0</td>\n      <td>N</td>\n    </tr>\n    <tr>\n      <th>4</th>\n      <td>321</td>\n      <td>87</td>\n      <td>10</td>\n      <td>39</td>\n      <td>42</td>\n      <td>30</td>\n      <td>2</td>\n      <td>396</td>\n      <td>101</td>\n      <td>12</td>\n      <td>48</td>\n      <td>46</td>\n      <td>33</td>\n      <td>N</td>\n      <td>E</td>\n      <td>805</td>\n      <td>40</td>\n      <td>4</td>\n      <td>91.5</td>\n      <td>N</td>\n    </tr>\n  </tbody>\n</table>\n</div>"
     },
     "execution_count": 2,
     "metadata": {},
     "output_type": "execute_result"
    }
   ],
   "source": [
    "data = pd.read_csv(\"../Data/Hitters.csv\")\n",
    "df = data.copy()\n",
    "df.head()"
   ],
   "metadata": {
    "collapsed": false,
    "pycharm": {
     "name": "#%%\n"
    }
   }
  },
  {
   "cell_type": "code",
   "execution_count": 3,
   "outputs": [
    {
     "name": "stdout",
     "output_type": "stream",
     "text": [
      "<class 'pandas.core.frame.DataFrame'>\n",
      "Int64Index: 263 entries, 1 to 321\n",
      "Data columns (total 20 columns):\n",
      " #   Column     Non-Null Count  Dtype  \n",
      "---  ------     --------------  -----  \n",
      " 0   AtBat      263 non-null    int64  \n",
      " 1   Hits       263 non-null    int64  \n",
      " 2   HmRun      263 non-null    int64  \n",
      " 3   Runs       263 non-null    int64  \n",
      " 4   RBI        263 non-null    int64  \n",
      " 5   Walks      263 non-null    int64  \n",
      " 6   Years      263 non-null    int64  \n",
      " 7   CAtBat     263 non-null    int64  \n",
      " 8   CHits      263 non-null    int64  \n",
      " 9   CHmRun     263 non-null    int64  \n",
      " 10  CRuns      263 non-null    int64  \n",
      " 11  CRBI       263 non-null    int64  \n",
      " 12  CWalks     263 non-null    int64  \n",
      " 13  League     263 non-null    object \n",
      " 14  Division   263 non-null    object \n",
      " 15  PutOuts    263 non-null    int64  \n",
      " 16  Assists    263 non-null    int64  \n",
      " 17  Errors     263 non-null    int64  \n",
      " 18  Salary     263 non-null    float64\n",
      " 19  NewLeague  263 non-null    object \n",
      "dtypes: float64(1), int64(16), object(3)\n",
      "memory usage: 43.1+ KB\n"
     ]
    }
   ],
   "source": [
    "df = df.dropna()\n",
    "df.info()"
   ],
   "metadata": {
    "collapsed": false,
    "pycharm": {
     "name": "#%%\n"
    }
   }
  },
  {
   "cell_type": "code",
   "execution_count": 4,
   "outputs": [
    {
     "data": {
      "text/plain": "   League_A  League_N  Division_E  Division_W  NewLeague_A  NewLeague_N\n1         0         1           0           1            0            1\n2         1         0           0           1            1            0\n3         0         1           1           0            0            1\n4         0         1           1           0            0            1\n5         1         0           0           1            1            0",
      "text/html": "<div>\n<style scoped>\n    .dataframe tbody tr th:only-of-type {\n        vertical-align: middle;\n    }\n\n    .dataframe tbody tr th {\n        vertical-align: top;\n    }\n\n    .dataframe thead th {\n        text-align: right;\n    }\n</style>\n<table border=\"1\" class=\"dataframe\">\n  <thead>\n    <tr style=\"text-align: right;\">\n      <th></th>\n      <th>League_A</th>\n      <th>League_N</th>\n      <th>Division_E</th>\n      <th>Division_W</th>\n      <th>NewLeague_A</th>\n      <th>NewLeague_N</th>\n    </tr>\n  </thead>\n  <tbody>\n    <tr>\n      <th>1</th>\n      <td>0</td>\n      <td>1</td>\n      <td>0</td>\n      <td>1</td>\n      <td>0</td>\n      <td>1</td>\n    </tr>\n    <tr>\n      <th>2</th>\n      <td>1</td>\n      <td>0</td>\n      <td>0</td>\n      <td>1</td>\n      <td>1</td>\n      <td>0</td>\n    </tr>\n    <tr>\n      <th>3</th>\n      <td>0</td>\n      <td>1</td>\n      <td>1</td>\n      <td>0</td>\n      <td>0</td>\n      <td>1</td>\n    </tr>\n    <tr>\n      <th>4</th>\n      <td>0</td>\n      <td>1</td>\n      <td>1</td>\n      <td>0</td>\n      <td>0</td>\n      <td>1</td>\n    </tr>\n    <tr>\n      <th>5</th>\n      <td>1</td>\n      <td>0</td>\n      <td>0</td>\n      <td>1</td>\n      <td>1</td>\n      <td>0</td>\n    </tr>\n  </tbody>\n</table>\n</div>"
     },
     "execution_count": 4,
     "metadata": {},
     "output_type": "execute_result"
    }
   ],
   "source": [
    "dms = pd.get_dummies(df[['League', 'Division', 'NewLeague']])\n",
    "dms.head()"
   ],
   "metadata": {
    "collapsed": false,
    "pycharm": {
     "name": "#%%\n"
    }
   }
  },
  {
   "cell_type": "code",
   "execution_count": 5,
   "outputs": [
    {
     "data": {
      "text/plain": "   AtBat   Hits  HmRun  Runs   RBI  Walks  Years  CAtBat   CHits  CHmRun  \\\n1  315.0   81.0    7.0  24.0  38.0   39.0   14.0  3449.0   835.0    69.0   \n2  479.0  130.0   18.0  66.0  72.0   76.0    3.0  1624.0   457.0    63.0   \n3  496.0  141.0   20.0  65.0  78.0   37.0   11.0  5628.0  1575.0   225.0   \n4  321.0   87.0   10.0  39.0  42.0   30.0    2.0   396.0   101.0    12.0   \n5  594.0  169.0    4.0  74.0  51.0   35.0   11.0  4408.0  1133.0    19.0   \n\n   CRuns   CRBI  CWalks  PutOuts  Assists  Errors  \n1  321.0  414.0   375.0    632.0     43.0    10.0  \n2  224.0  266.0   263.0    880.0     82.0    14.0  \n3  828.0  838.0   354.0    200.0     11.0     3.0  \n4   48.0   46.0    33.0    805.0     40.0     4.0  \n5  501.0  336.0   194.0    282.0    421.0    25.0  ",
      "text/html": "<div>\n<style scoped>\n    .dataframe tbody tr th:only-of-type {\n        vertical-align: middle;\n    }\n\n    .dataframe tbody tr th {\n        vertical-align: top;\n    }\n\n    .dataframe thead th {\n        text-align: right;\n    }\n</style>\n<table border=\"1\" class=\"dataframe\">\n  <thead>\n    <tr style=\"text-align: right;\">\n      <th></th>\n      <th>AtBat</th>\n      <th>Hits</th>\n      <th>HmRun</th>\n      <th>Runs</th>\n      <th>RBI</th>\n      <th>Walks</th>\n      <th>Years</th>\n      <th>CAtBat</th>\n      <th>CHits</th>\n      <th>CHmRun</th>\n      <th>CRuns</th>\n      <th>CRBI</th>\n      <th>CWalks</th>\n      <th>PutOuts</th>\n      <th>Assists</th>\n      <th>Errors</th>\n    </tr>\n  </thead>\n  <tbody>\n    <tr>\n      <th>1</th>\n      <td>315.0</td>\n      <td>81.0</td>\n      <td>7.0</td>\n      <td>24.0</td>\n      <td>38.0</td>\n      <td>39.0</td>\n      <td>14.0</td>\n      <td>3449.0</td>\n      <td>835.0</td>\n      <td>69.0</td>\n      <td>321.0</td>\n      <td>414.0</td>\n      <td>375.0</td>\n      <td>632.0</td>\n      <td>43.0</td>\n      <td>10.0</td>\n    </tr>\n    <tr>\n      <th>2</th>\n      <td>479.0</td>\n      <td>130.0</td>\n      <td>18.0</td>\n      <td>66.0</td>\n      <td>72.0</td>\n      <td>76.0</td>\n      <td>3.0</td>\n      <td>1624.0</td>\n      <td>457.0</td>\n      <td>63.0</td>\n      <td>224.0</td>\n      <td>266.0</td>\n      <td>263.0</td>\n      <td>880.0</td>\n      <td>82.0</td>\n      <td>14.0</td>\n    </tr>\n    <tr>\n      <th>3</th>\n      <td>496.0</td>\n      <td>141.0</td>\n      <td>20.0</td>\n      <td>65.0</td>\n      <td>78.0</td>\n      <td>37.0</td>\n      <td>11.0</td>\n      <td>5628.0</td>\n      <td>1575.0</td>\n      <td>225.0</td>\n      <td>828.0</td>\n      <td>838.0</td>\n      <td>354.0</td>\n      <td>200.0</td>\n      <td>11.0</td>\n      <td>3.0</td>\n    </tr>\n    <tr>\n      <th>4</th>\n      <td>321.0</td>\n      <td>87.0</td>\n      <td>10.0</td>\n      <td>39.0</td>\n      <td>42.0</td>\n      <td>30.0</td>\n      <td>2.0</td>\n      <td>396.0</td>\n      <td>101.0</td>\n      <td>12.0</td>\n      <td>48.0</td>\n      <td>46.0</td>\n      <td>33.0</td>\n      <td>805.0</td>\n      <td>40.0</td>\n      <td>4.0</td>\n    </tr>\n    <tr>\n      <th>5</th>\n      <td>594.0</td>\n      <td>169.0</td>\n      <td>4.0</td>\n      <td>74.0</td>\n      <td>51.0</td>\n      <td>35.0</td>\n      <td>11.0</td>\n      <td>4408.0</td>\n      <td>1133.0</td>\n      <td>19.0</td>\n      <td>501.0</td>\n      <td>336.0</td>\n      <td>194.0</td>\n      <td>282.0</td>\n      <td>421.0</td>\n      <td>25.0</td>\n    </tr>\n  </tbody>\n</table>\n</div>"
     },
     "execution_count": 5,
     "metadata": {},
     "output_type": "execute_result"
    }
   ],
   "source": [
    "y = df[\"Salary\"]\n",
    "X_ = df.drop([\"Salary\", \"League\", \"Division\", \"NewLeague\"], axis=1).astype(\"float64\")\n",
    "X_.head()"
   ],
   "metadata": {
    "collapsed": false,
    "pycharm": {
     "name": "#%%\n"
    }
   }
  },
  {
   "cell_type": "code",
   "execution_count": 6,
   "outputs": [
    {
     "data": {
      "text/plain": "   AtBat   Hits  HmRun  Runs   RBI  Walks  Years  CAtBat   CHits  CHmRun  \\\n1  315.0   81.0    7.0  24.0  38.0   39.0   14.0  3449.0   835.0    69.0   \n2  479.0  130.0   18.0  66.0  72.0   76.0    3.0  1624.0   457.0    63.0   \n3  496.0  141.0   20.0  65.0  78.0   37.0   11.0  5628.0  1575.0   225.0   \n4  321.0   87.0   10.0  39.0  42.0   30.0    2.0   396.0   101.0    12.0   \n5  594.0  169.0    4.0  74.0  51.0   35.0   11.0  4408.0  1133.0    19.0   \n\n   CRuns   CRBI  CWalks  PutOuts  Assists  Errors  League_N  Division_W  \\\n1  321.0  414.0   375.0    632.0     43.0    10.0         1           1   \n2  224.0  266.0   263.0    880.0     82.0    14.0         0           1   \n3  828.0  838.0   354.0    200.0     11.0     3.0         1           0   \n4   48.0   46.0    33.0    805.0     40.0     4.0         1           0   \n5  501.0  336.0   194.0    282.0    421.0    25.0         0           1   \n\n   NewLeague_N  \n1            1  \n2            0  \n3            1  \n4            1  \n5            0  ",
      "text/html": "<div>\n<style scoped>\n    .dataframe tbody tr th:only-of-type {\n        vertical-align: middle;\n    }\n\n    .dataframe tbody tr th {\n        vertical-align: top;\n    }\n\n    .dataframe thead th {\n        text-align: right;\n    }\n</style>\n<table border=\"1\" class=\"dataframe\">\n  <thead>\n    <tr style=\"text-align: right;\">\n      <th></th>\n      <th>AtBat</th>\n      <th>Hits</th>\n      <th>HmRun</th>\n      <th>Runs</th>\n      <th>RBI</th>\n      <th>Walks</th>\n      <th>Years</th>\n      <th>CAtBat</th>\n      <th>CHits</th>\n      <th>CHmRun</th>\n      <th>CRuns</th>\n      <th>CRBI</th>\n      <th>CWalks</th>\n      <th>PutOuts</th>\n      <th>Assists</th>\n      <th>Errors</th>\n      <th>League_N</th>\n      <th>Division_W</th>\n      <th>NewLeague_N</th>\n    </tr>\n  </thead>\n  <tbody>\n    <tr>\n      <th>1</th>\n      <td>315.0</td>\n      <td>81.0</td>\n      <td>7.0</td>\n      <td>24.0</td>\n      <td>38.0</td>\n      <td>39.0</td>\n      <td>14.0</td>\n      <td>3449.0</td>\n      <td>835.0</td>\n      <td>69.0</td>\n      <td>321.0</td>\n      <td>414.0</td>\n      <td>375.0</td>\n      <td>632.0</td>\n      <td>43.0</td>\n      <td>10.0</td>\n      <td>1</td>\n      <td>1</td>\n      <td>1</td>\n    </tr>\n    <tr>\n      <th>2</th>\n      <td>479.0</td>\n      <td>130.0</td>\n      <td>18.0</td>\n      <td>66.0</td>\n      <td>72.0</td>\n      <td>76.0</td>\n      <td>3.0</td>\n      <td>1624.0</td>\n      <td>457.0</td>\n      <td>63.0</td>\n      <td>224.0</td>\n      <td>266.0</td>\n      <td>263.0</td>\n      <td>880.0</td>\n      <td>82.0</td>\n      <td>14.0</td>\n      <td>0</td>\n      <td>1</td>\n      <td>0</td>\n    </tr>\n    <tr>\n      <th>3</th>\n      <td>496.0</td>\n      <td>141.0</td>\n      <td>20.0</td>\n      <td>65.0</td>\n      <td>78.0</td>\n      <td>37.0</td>\n      <td>11.0</td>\n      <td>5628.0</td>\n      <td>1575.0</td>\n      <td>225.0</td>\n      <td>828.0</td>\n      <td>838.0</td>\n      <td>354.0</td>\n      <td>200.0</td>\n      <td>11.0</td>\n      <td>3.0</td>\n      <td>1</td>\n      <td>0</td>\n      <td>1</td>\n    </tr>\n    <tr>\n      <th>4</th>\n      <td>321.0</td>\n      <td>87.0</td>\n      <td>10.0</td>\n      <td>39.0</td>\n      <td>42.0</td>\n      <td>30.0</td>\n      <td>2.0</td>\n      <td>396.0</td>\n      <td>101.0</td>\n      <td>12.0</td>\n      <td>48.0</td>\n      <td>46.0</td>\n      <td>33.0</td>\n      <td>805.0</td>\n      <td>40.0</td>\n      <td>4.0</td>\n      <td>1</td>\n      <td>0</td>\n      <td>1</td>\n    </tr>\n    <tr>\n      <th>5</th>\n      <td>594.0</td>\n      <td>169.0</td>\n      <td>4.0</td>\n      <td>74.0</td>\n      <td>51.0</td>\n      <td>35.0</td>\n      <td>11.0</td>\n      <td>4408.0</td>\n      <td>1133.0</td>\n      <td>19.0</td>\n      <td>501.0</td>\n      <td>336.0</td>\n      <td>194.0</td>\n      <td>282.0</td>\n      <td>421.0</td>\n      <td>25.0</td>\n      <td>0</td>\n      <td>1</td>\n      <td>0</td>\n    </tr>\n  </tbody>\n</table>\n</div>"
     },
     "execution_count": 6,
     "metadata": {},
     "output_type": "execute_result"
    }
   ],
   "source": [
    "X = pd.concat([X_,dms[['League_N','Division_W','NewLeague_N']]],axis=1)\n",
    "X.head()"
   ],
   "metadata": {
    "collapsed": false,
    "pycharm": {
     "name": "#%%\n"
    }
   }
  },
  {
   "cell_type": "code",
   "execution_count": 18,
   "outputs": [],
   "source": [
    "from sklearn.model_selection import train_test_split\n",
    "\n",
    "X_train,X_test,y_train,y_test = train_test_split(X,y,test_size=0.25,random_state=42)"
   ],
   "metadata": {
    "collapsed": false,
    "pycharm": {
     "name": "#%%\n"
    }
   }
  },
  {
   "cell_type": "raw",
   "source": [
    "It is based on the idea that variables are reduced to a smaller number of components that do not have a multicollinearity problem and a regression model is established.\n",
    "It offers a solution to the multilinear connection problem.\n",
    "Like PCR, PLS finds combinations of arguments. These linear combinations are called components or latent variables.\n",
    "PLS focused on dependent variables.\n",
    "PLS is a special case of NIPALS, it iteratively tries to find the latent relationship between the dependent variable and the highly correlated variable.\n",
    "NIPALS: algorithm.\n",
    "In PCR, linear combinations, that is, components, are created to sum up the maximum distance from the independent variable.\n",
    "this situation causes the lack of ability to explain the dependent variable.\n",
    "In PLS, on the other hand, the components are created in a way that sums up the covariance with the dependent variable as much as possible.\n",
    "If variables are not discarded and clarification is sought: PLS\n",
    "The #PLS supervised size reduction procedure can be viewed as a PCR unsupervised size reduction procedure.\n",
    "Both methods have a tunnig parameter, which is the number of components.\n",
    "CV method is used to determine the optimal number of components."
   ],
   "metadata": {
    "collapsed": false,
    "pycharm": {
     "name": "#%% raw\n"
    }
   }
  },
  {
   "cell_type": "code",
   "execution_count": 19,
   "outputs": [],
   "source": [
    "from sklearn.cross_decomposition import PLSRegression, PLSSVD"
   ],
   "metadata": {
    "collapsed": false,
    "pycharm": {
     "name": "#%%\n"
    }
   }
  },
  {
   "cell_type": "code",
   "execution_count": 20,
   "outputs": [],
   "source": [
    "pls_model = PLSRegression().fit(X_train, y_train)\n"
   ],
   "metadata": {
    "collapsed": false,
    "pycharm": {
     "name": "#%%\n"
    }
   }
  },
  {
   "cell_type": "code",
   "execution_count": 21,
   "outputs": [
    {
     "data": {
      "text/plain": "array([[ 35.32916493],\n       [ 48.83425857],\n       [ 18.50240933],\n       [ 39.28117603],\n       [ 30.59952998],\n       [ 40.03398345],\n       [ 16.85990516],\n       [ 28.22289896],\n       [ 32.73784993],\n       [ 22.00875744],\n       [ 33.60903032],\n       [ 30.39402522],\n       [ 25.73279799],\n       [ 54.98835148],\n       [  6.56590871],\n       [ -0.90894359],\n       [ 17.60903423],\n       [-37.24246339],\n       [ 14.69680385]])"
     },
     "execution_count": 21,
     "metadata": {},
     "output_type": "execute_result"
    }
   ],
   "source": [
    "pls_model.coef_"
   ],
   "metadata": {
    "collapsed": false,
    "pycharm": {
     "name": "#%%\n"
    }
   }
  },
  {
   "cell_type": "code",
   "execution_count": 22,
   "outputs": [
    {
     "data": {
      "text/plain": "310.1167593109696"
     },
     "execution_count": 22,
     "metadata": {},
     "output_type": "execute_result"
    }
   ],
   "source": [
    "from sklearn.metrics import mean_squared_error\n",
    "\n",
    "y_pred = pls_model.predict(X_train)\n",
    "np.sqrt(mean_squared_error(y_train, y_pred))"
   ],
   "metadata": {
    "collapsed": false,
    "pycharm": {
     "name": "#%%\n"
    }
   }
  },
  {
   "cell_type": "code",
   "execution_count": 23,
   "outputs": [
    {
     "data": {
      "text/plain": "398.09956327448526"
     },
     "execution_count": 23,
     "metadata": {},
     "output_type": "execute_result"
    }
   ],
   "source": [
    "y_pred = pls_model.predict(X_test)\n",
    "np.sqrt(mean_squared_error(y_test, y_pred))"
   ],
   "metadata": {
    "collapsed": false,
    "pycharm": {
     "name": "#%%\n"
    }
   }
  },
  {
   "cell_type": "code",
   "execution_count": 24,
   "outputs": [
    {
     "data": {
      "text/plain": "<Figure size 432x288 with 1 Axes>",
      "image/png": "[encoded data removed]"
     },
     "metadata": {
      "needs_background": "light"
     },
     "output_type": "display_data"
    }
   ],
   "source": [
    "from matplotlib import pyplot as plt\n",
    "from sklearn.model_selection import cross_val_score\n",
    "from sklearn import model_selection\n",
    "\n",
    "cv_10 = model_selection.KFold(n_splits=10, shuffle=True, random_state=1)#crossvalidation\n",
    "\n",
    "RMSE = []\n",
    "\n",
    "for i in np.arange(1, X_train.shape[1] + 1):\n",
    "    pls = PLSRegression(n_components=i)\n",
    "    score = np.sqrt(-1*cross_val_score(pls, X_train, y_train, cv=cv_10, scoring='neg_mean_squared_error').mean())\n",
    "    RMSE.append(score)\n",
    "\n",
    "\n",
    "plt.plot(np.arange(1, X_train.shape[1] + 1), np.array(RMSE), '-v', c = \"r\")\n",
    "plt.xlabel('Number of Components')\n",
    "plt.ylabel('RMSE')\n",
    "plt.title('Salary');\n"
   ],
   "metadata": {
    "collapsed": false,
    "pycharm": {
     "name": "#%%\n"
    }
   }
  },
  {
   "cell_type": "code",
   "execution_count": 25,
   "outputs": [],
   "source": [
    "pls_model = PLSRegression(n_components=2).fit(X_train,y_train)"
   ],
   "metadata": {
    "collapsed": false,
    "pycharm": {
     "name": "#%%\n"
    }
   }
  },
  {
   "cell_type": "code",
   "execution_count": 27,
   "outputs": [
    {
     "data": {
      "text/plain": "398.09956327448526"
     },
     "execution_count": 27,
     "metadata": {},
     "output_type": "execute_result"
    }
   ],
   "source": [
    "y_pred = pls_model.predict(X_test)\n",
    "np.sqrt(mean_squared_error(y_test,y_pred))"
   ],
   "metadata": {
    "collapsed": false,
    "pycharm": {
     "name": "#%%\n"
    }
   }
  }
 ],
 "metadata": {
  "kernelspec": {
   "display_name": "Python 3",
   "language": "python",
   "name": "python3"
  },
  "language_info": {
   "codemirror_mode": {
    "name": "ipython",
    "version": 2
   },
   "file_extension": ".py",
   "mimetype": "text/x-python",
   "name": "python",
   "nbconvert_exporter": "python",
   "pygments_lexer": "ipython2",
   "version": "2.7.6"
  }
 },
 "nbformat": 4,
 "nbformat_minor": 0
}