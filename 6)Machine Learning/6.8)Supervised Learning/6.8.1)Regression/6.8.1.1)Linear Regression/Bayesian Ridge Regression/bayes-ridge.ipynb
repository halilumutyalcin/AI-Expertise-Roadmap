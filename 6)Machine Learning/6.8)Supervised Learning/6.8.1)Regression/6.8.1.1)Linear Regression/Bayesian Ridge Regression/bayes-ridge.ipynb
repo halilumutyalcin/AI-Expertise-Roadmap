{
 "cells": [
  {
   "cell_type": "raw",
   "source": [
    "Bayesian Ridge is a type of regularized linear regression algorithm that uses Bayesian inference to estimate the coefficients of the model. It is a probabilistic approach to linear regression that assumes that the coefficients of the model are random variables that follow a normal distribution.\n",
    "\n",
    "In Bayesian Ridge, the coefficients of the model are estimated by maximizing the posterior probability distribution of the coefficients given the data. This is done using an optimization algorithm called the Expectation-Maximization (EM) algorithm, which iteratively updates the estimates of the coefficients until convergence.\n",
    "\n",
    "One key advantage of Bayesian Ridge is that it can estimate the uncertainty of the coefficients, which can be useful in understanding the robustness of the model. It also allows for the incorporation of prior knowledge about the coefficients, which can improve the accuracy of the model.\n",
    "\n",
    "Overall, Bayesian Ridge is a powerful tool for linear regression that can provide accurate estimates of the coefficients while also taking into account the uncertainty of the estimates and allowing for the incorporation of prior knowledge."
   ],
   "metadata": {
    "collapsed": false,
    "pycharm": {
     "name": "#%% raw\n"
    }
   }
  },
  {
   "cell_type": "code",
   "execution_count": 1,
   "outputs": [],
   "source": [
    "from sklearn.linear_model import BayesianRidge\n",
    "from sklearn.datasets import load_boston\n",
    "from sklearn.model_selection import train_test_split\n",
    "from sklearn.metrics import mean_squared_error\n",
    "import matplotlib.pyplot as plt\n",
    "from numpy import sqrt"
   ],
   "metadata": {
    "collapsed": false,
    "pycharm": {
     "name": "#%%\n"
    }
   }
  },
  {
   "cell_type": "code",
   "execution_count": 2,
   "outputs": [],
   "source": [
    "boston = load_boston()\n",
    "x, y = boston.data, boston.target\n",
    "xtrain, xtest, ytrain, ytest=train_test_split(x, y, test_size=0.15)"
   ],
   "metadata": {
    "collapsed": false,
    "pycharm": {
     "name": "#%%\n"
    }
   }
  },
  {
   "cell_type": "code",
   "execution_count": 4,
   "outputs": [
    {
     "name": "stdout",
     "output_type": "stream",
     "text": [
      "BayesianRidge()\n"
     ]
    },
    {
     "data": {
      "text/plain": "BayesianRidge()"
     },
     "execution_count": 4,
     "metadata": {},
     "output_type": "execute_result"
    }
   ],
   "source": [
    "bay_ridge = BayesianRidge()\n",
    "print(bay_ridge)\n",
    "BayesianRidge(alpha_1=1e-06, alpha_2=1e-06, compute_score=False, copy_X=True,\n",
    "       fit_intercept=True, lambda_1=1e-06, lambda_2=1e-06, n_iter=300,\n",
    "       normalize=False, tol=0.001, verbose=False)\n",
    "\n",
    "bay_ridge.fit(xtrain, ytrain)"
   ],
   "metadata": {
    "collapsed": false,
    "pycharm": {
     "name": "#%%\n"
    }
   }
  },
  {
   "cell_type": "code",
   "execution_count": 5,
   "outputs": [
    {
     "name": "stdout",
     "output_type": "stream",
     "text": [
      "Model score (R-squared): 0.72\n"
     ]
    }
   ],
   "source": [
    "score=bay_ridge.score(xtrain, ytrain)\n",
    "print(\"Model score (R-squared): %.2f\" % score)"
   ],
   "metadata": {
    "collapsed": false,
    "pycharm": {
     "name": "#%%\n"
    }
   }
  },
  {
   "cell_type": "code",
   "execution_count": 6,
   "outputs": [
    {
     "name": "stdout",
     "output_type": "stream",
     "text": [
      "MSE: 22.47\n"
     ]
    }
   ],
   "source": [
    "ypred = bay_ridge.predict(xtest)\n",
    "mse = mean_squared_error(ytest, ypred)\n",
    "print(\"MSE: %.2f\" % mse)"
   ],
   "metadata": {
    "collapsed": false,
    "pycharm": {
     "name": "#%%\n"
    }
   }
  },
  {
   "cell_type": "code",
   "execution_count": null,
   "outputs": [],
   "source": [],
   "metadata": {
    "collapsed": false,
    "pycharm": {
     "name": "#%%\n"
    }
   }
  },
  {
   "cell_type": "code",
   "execution_count": 8,
   "outputs": [
    {
     "name": "stdout",
     "output_type": "stream",
     "text": [
      "RMSE: 4.74\n"
     ]
    }
   ],
   "source": [
    "print(\"RMSE: %.2f\" % sqrt(mse))\n"
   ],
   "metadata": {
    "collapsed": false,
    "pycharm": {
     "name": "#%%\n"
    }
   }
  },
  {
   "cell_type": "code",
   "execution_count": 9,
   "outputs": [
    {
     "data": {
      "text/plain": "<Figure size 432x288 with 1 Axes>",
      "image/png": "[encoded data removed]"
     },
     "metadata": {
      "needs_background": "light"
     },
     "output_type": "display_data"
    }
   ],
   "source": [
    "x_ax = range(len(ytest))\n",
    "plt.scatter(x_ax, ytest, s=5, color=\"blue\", label=\"original\")\n",
    "plt.plot(x_ax, ypred, lw=0.8, color=\"red\", label=\"predicted\")\n",
    "plt.legend()\n",
    "plt.show()"
   ],
   "metadata": {
    "collapsed": false,
    "pycharm": {
     "name": "#%%\n"
    }
   }
  },
  {
   "cell_type": "code",
   "execution_count": null,
   "outputs": [],
   "source": [],
   "metadata": {
    "collapsed": false,
    "pycharm": {
     "name": "#%%\n"
    }
   }
  }
 ],
 "metadata": {
  "kernelspec": {
   "display_name": "Python 3",
   "language": "python",
   "name": "python3"
  },
  "language_info": {
   "codemirror_mode": {
    "name": "ipython",
    "version": 2
   },
   "file_extension": ".py",
   "mimetype": "text/x-python",
   "name": "python",
   "nbconvert_exporter": "python",
   "pygments_lexer": "ipython2",
   "version": "2.7.6"
  }
 },
 "nbformat": 4,
 "nbformat_minor": 0
}