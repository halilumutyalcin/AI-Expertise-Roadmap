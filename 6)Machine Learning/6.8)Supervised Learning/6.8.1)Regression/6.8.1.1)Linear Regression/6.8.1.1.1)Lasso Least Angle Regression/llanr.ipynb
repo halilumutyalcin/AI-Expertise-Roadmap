{
 "cells": [
  {
   "cell_type": "raw",
   "source": [
    "Lasso Least Angle Regression (LARS) is a statistical method used to analyze the relationship between a dependent variable and one or more independent variables. It is similar to least squares regression, but instead of finding the best fitting line to represent the relationship between the dependent and independent variables, LARS finds the best fitting plane.\n",
    "\n",
    "LARS is particularly useful when the number of independent variables is large compared to the number of observations, or when there is multicollinearity (high correlation between independent variables). It is also useful when the dependent variable is a matrix, rather than a single variable.\n",
    "\n",
    "LARS works by projecting both the independent and dependent variables onto a new set of latent variables (latent meaning \"hidden\"), which are then used to predict the dependent variable. The number of latent variables used is typically less than the number of independent variables, which helps to reduce the complexity of the model.\n",
    "\n",
    "LARS is often used in the field of chemometrics, where it is used to analyze the relationship between chemical compounds and some response variable (such as the concentration of a chemical in a sample). It is also used in the social sciences and economics to analyze the relationship between variables in large datasets."
   ],
   "metadata": {
    "collapsed": false,
    "pycharm": {
     "name": "#%% raw\n"
    }
   }
  },
  {
   "cell_type": "code",
   "execution_count": 1,
   "outputs": [
    {
     "name": "stdout",
     "output_type": "stream",
     "text": [
      "r2 Score of test set : 0.6815908068381828\n"
     ]
    }
   ],
   "source": [
    "# Importing modules that are required\n",
    "\n",
    "from sklearn.datasets import load_boston\n",
    "from sklearn.linear_model import LassoLars\n",
    "from sklearn.metrics import r2_score\n",
    "from sklearn.model_selection import train_test_split\n",
    "\n",
    "# Loading dataset\n",
    "dataset = load_boston()\n",
    "X = dataset.data\n",
    "y = dataset.target\n",
    "\n",
    "# Splitting training and testing data\n",
    "X_train, X_test, y_train, y_test = train_test_split(X, y,\n",
    "\t\t\t\t\ttest_size = 0.15, random_state = 42)\n",
    "\n",
    "# Creating and fitting the regressor\n",
    "regressor = LassoLars(alpha = 0.1)\n",
    "regressor.fit(X_train, y_train)\n",
    "\n",
    "\n",
    "# Evaluating model\n",
    "prediction = regressor.predict(X_test)\n",
    "\n",
    "print(f\"r2 Score of test set : {r2_score(y_test, prediction)}\")"
   ],
   "metadata": {
    "collapsed": false,
    "pycharm": {
     "name": "#%%\n"
    }
   }
  },
  {
   "cell_type": "code",
   "execution_count": null,
   "outputs": [],
   "source": [],
   "metadata": {
    "collapsed": false,
    "pycharm": {
     "name": "#%%\n"
    }
   }
  }
 ],
 "metadata": {
  "kernelspec": {
   "display_name": "Python 3",
   "language": "python",
   "name": "python3"
  },
  "language_info": {
   "codemirror_mode": {
    "name": "ipython",
    "version": 2
   },
   "file_extension": ".py",
   "mimetype": "text/x-python",
   "name": "python",
   "nbconvert_exporter": "python",
   "pygments_lexer": "ipython2",
   "version": "2.7.6"
  }
 },
 "nbformat": 4,
 "nbformat_minor": 0
}