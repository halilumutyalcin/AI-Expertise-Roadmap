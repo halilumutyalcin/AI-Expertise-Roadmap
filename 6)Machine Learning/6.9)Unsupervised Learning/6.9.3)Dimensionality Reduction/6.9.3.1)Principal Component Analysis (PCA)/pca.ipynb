{
 "cells": [
  {
   "cell_type": "raw",
   "source": [
    "Principal component analysis (PCA) is a dimensionality reduction technique used to reduce the number of variables in a dataset while retaining as much of the information as possible. It is a method of identifying the underlying structure of the data and transforming the data into a lower-dimensional space, by creating a set of new variables (also known as principal components) that are linear combinations of the original variables.\n",
    "\n",
    "PCA works by finding the directions in the data that have the highest variance and using these directions as the principal components. The first principal component is the direction in the data with the highest variance, the second principal component is the direction with the second highest variance, and so on. The principal components are orthogonal to each other, meaning they are perpendicular and do not overlap.\n",
    "\n",
    "PCA is a popular method for dimensionality reduction, as it is easy to implement and produces results quickly. It is also useful for visualizing high-dimensional data in a lower-dimensional space. However, it is sensitive to the presence of outliers in the data, which can significantly influence the principal components. It is also not suitable for categorical data, as it requires the data to be continuous.\n"
   ],
   "metadata": {
    "collapsed": false,
    "pycharm": {
     "name": "#%% raw\n"
    }
   }
  },
  {
   "cell_type": "raw",
   "source": [
    "The steps for implementing principal component analysis (PCA) are as follows:\n",
    "\n",
    "Standardize the data: The data should be standardized (mean subtracted and divided by the standard deviation) to ensure that all features are on the same scale.\n",
    "\n",
    "Compute the covariance matrix: The covariance matrix is calculated to determine the correlation between the different features.\n",
    "\n",
    "Compute the eigenvectors and eigenvalues: The eigenvectors and eigenvalues of the covariance matrix are computed to determine the principal components of the data.\n",
    "\n",
    "Sort the eigenvalues: The eigenvalues are sorted in descending order to determine the most important principal components.\n",
    "\n",
    "Select the number of components: The user specifies the number of components they want to keep (k).\n",
    "\n",
    "Construct the projection matrix: A projection matrix is created using the top k eigenvectors.\n",
    "\n",
    "Transform the data: The data is transformed using the projection matrix to reduce the dimensionality of the data.\n",
    "\n",
    "Output the transformed data: The transformed data is output, with the number of dimensions reduced to k."
   ],
   "metadata": {
    "collapsed": false,
    "pycharm": {
     "name": "#%% raw\n"
    }
   }
  },
  {
   "cell_type": "code",
   "execution_count": 1,
   "outputs": [],
   "source": [
    "from warnings import filterwarnings\n",
    "filterwarnings('ignore')\n",
    "import numpy as np\n",
    "import pandas as pd\n",
    "import seaborn as sns\n",
    "import matplotlib.pyplot as plt\n",
    "import scipy as sp\n",
    "from sklearn.cluster import KMeans"
   ],
   "metadata": {
    "collapsed": false,
    "pycharm": {
     "name": "#%%\n"
    }
   }
  },
  {
   "cell_type": "code",
   "execution_count": 6,
   "outputs": [
    {
     "data": {
      "text/plain": "            Murder  Assault  UrbanPop  Rape\nUnnamed: 0                                 \nAlabama       13.2      236        58  21.2\nAlaska        10.0      263        48  44.5\nArizona        8.1      294        80  31.0\nArkansas       8.8      190        50  19.5\nCalifornia     9.0      276        91  40.6",
      "text/html": "<div>\n<style scoped>\n    .dataframe tbody tr th:only-of-type {\n        vertical-align: middle;\n    }\n\n    .dataframe tbody tr th {\n        vertical-align: top;\n    }\n\n    .dataframe thead th {\n        text-align: right;\n    }\n</style>\n<table border=\"1\" class=\"dataframe\">\n  <thead>\n    <tr style=\"text-align: right;\">\n      <th></th>\n      <th>Murder</th>\n      <th>Assault</th>\n      <th>UrbanPop</th>\n      <th>Rape</th>\n    </tr>\n    <tr>\n      <th>Unnamed: 0</th>\n      <th></th>\n      <th></th>\n      <th></th>\n      <th></th>\n    </tr>\n  </thead>\n  <tbody>\n    <tr>\n      <th>Alabama</th>\n      <td>13.2</td>\n      <td>236</td>\n      <td>58</td>\n      <td>21.2</td>\n    </tr>\n    <tr>\n      <th>Alaska</th>\n      <td>10.0</td>\n      <td>263</td>\n      <td>48</td>\n      <td>44.5</td>\n    </tr>\n    <tr>\n      <th>Arizona</th>\n      <td>8.1</td>\n      <td>294</td>\n      <td>80</td>\n      <td>31.0</td>\n    </tr>\n    <tr>\n      <th>Arkansas</th>\n      <td>8.8</td>\n      <td>190</td>\n      <td>50</td>\n      <td>19.5</td>\n    </tr>\n    <tr>\n      <th>California</th>\n      <td>9.0</td>\n      <td>276</td>\n      <td>91</td>\n      <td>40.6</td>\n    </tr>\n  </tbody>\n</table>\n</div>"
     },
     "execution_count": 6,
     "metadata": {},
     "output_type": "execute_result"
    }
   ],
   "source": [
    "df = pd.read_csv(\"../Data/USArrests.csv\").copy()\n",
    "df.index = df.iloc[:,0]\n",
    "df = df.iloc[:,1:5]\n",
    "#del df.index.name\n",
    "df.head()"
   ],
   "metadata": {
    "collapsed": false,
    "pycharm": {
     "name": "#%%\n"
    }
   }
  },
  {
   "cell_type": "code",
   "execution_count": 7,
   "outputs": [],
   "source": [
    "from warnings import filterwarnings\n",
    "filterwarnings('ignore')"
   ],
   "metadata": {
    "collapsed": false,
    "pycharm": {
     "name": "#%%\n"
    }
   }
  },
  {
   "cell_type": "code",
   "execution_count": 8,
   "outputs": [
    {
     "data": {
      "text/plain": "array([[ 1.25517927,  0.79078716, -0.52619514, -0.00345116],\n       [ 0.51301858,  1.11805959, -1.22406668,  2.50942392],\n       [ 0.07236067,  1.49381682,  1.00912225,  1.05346626],\n       [ 0.23470832,  0.23321191, -1.08449238, -0.18679398],\n       [ 0.28109336,  1.2756352 ,  1.77678094,  2.08881393]])"
     },
     "execution_count": 8,
     "metadata": {},
     "output_type": "execute_result"
    }
   ],
   "source": [
    "from sklearn.preprocessing import StandardScaler\n",
    "\n",
    "df = StandardScaler().fit_transform(df)\n",
    "df[0:5,0:5]"
   ],
   "metadata": {
    "collapsed": false,
    "pycharm": {
     "name": "#%%\n"
    }
   }
  },
  {
   "cell_type": "code",
   "execution_count": 9,
   "outputs": [],
   "source": [
    "from sklearn.decomposition import PCA\n",
    "pca = PCA(n_components = 3)\n",
    "pca_fit = pca.fit_transform(df)"
   ],
   "metadata": {
    "collapsed": false,
    "pycharm": {
     "name": "#%%\n"
    }
   }
  },
  {
   "cell_type": "code",
   "execution_count": 16,
   "outputs": [],
   "source": [
    "component_df = pd.DataFrame(data = pca_fit,\n",
    "                          columns = [\"first_component\",\"second_component\",\"third_component\"])"
   ],
   "metadata": {
    "collapsed": false,
    "pycharm": {
     "name": "#%%\n"
    }
   }
  },
  {
   "cell_type": "code",
   "execution_count": 17,
   "outputs": [
    {
     "data": {
      "text/plain": "   first_component  second_component  third_component\n0         0.985566          1.133392        -0.444269\n1         1.950138          1.073213         2.040003\n2         1.763164         -0.745957         0.054781\n3        -0.141420          1.119797         0.114574\n4         2.523980         -1.542934         0.598557",
      "text/html": "<div>\n<style scoped>\n    .dataframe tbody tr th:only-of-type {\n        vertical-align: middle;\n    }\n\n    .dataframe tbody tr th {\n        vertical-align: top;\n    }\n\n    .dataframe thead th {\n        text-align: right;\n    }\n</style>\n<table border=\"1\" class=\"dataframe\">\n  <thead>\n    <tr style=\"text-align: right;\">\n      <th></th>\n      <th>first_component</th>\n      <th>second_component</th>\n      <th>third_component</th>\n    </tr>\n  </thead>\n  <tbody>\n    <tr>\n      <th>0</th>\n      <td>0.985566</td>\n      <td>1.133392</td>\n      <td>-0.444269</td>\n    </tr>\n    <tr>\n      <th>1</th>\n      <td>1.950138</td>\n      <td>1.073213</td>\n      <td>2.040003</td>\n    </tr>\n    <tr>\n      <th>2</th>\n      <td>1.763164</td>\n      <td>-0.745957</td>\n      <td>0.054781</td>\n    </tr>\n    <tr>\n      <th>3</th>\n      <td>-0.141420</td>\n      <td>1.119797</td>\n      <td>0.114574</td>\n    </tr>\n    <tr>\n      <th>4</th>\n      <td>2.523980</td>\n      <td>-1.542934</td>\n      <td>0.598557</td>\n    </tr>\n  </tbody>\n</table>\n</div>"
     },
     "execution_count": 17,
     "metadata": {},
     "output_type": "execute_result"
    }
   ],
   "source": [
    "component_df.head()"
   ],
   "metadata": {
    "collapsed": false,
    "pycharm": {
     "name": "#%%\n"
    }
   }
  },
  {
   "cell_type": "code",
   "execution_count": 18,
   "outputs": [
    {
     "data": {
      "text/plain": "array([0.62006039, 0.24744129, 0.0891408 , 0.04335752])"
     },
     "execution_count": 18,
     "metadata": {},
     "output_type": "execute_result"
    }
   ],
   "source": [
    "pca.explained_variance_ratio_"
   ],
   "metadata": {
    "collapsed": false,
    "pycharm": {
     "name": "#%%\n"
    }
   }
  },
  {
   "cell_type": "code",
   "execution_count": 19,
   "outputs": [],
   "source": [
    "pca = PCA().fit(df)"
   ],
   "metadata": {
    "collapsed": false,
    "pycharm": {
     "name": "#%%\n"
    }
   }
  },
  {
   "cell_type": "code",
   "execution_count": 20,
   "outputs": [
    {
     "data": {
      "text/plain": "[<matplotlib.lines.Line2D at 0x13f9de1ae50>]"
     },
     "execution_count": 20,
     "metadata": {},
     "output_type": "execute_result"
    },
    {
     "data": {
      "text/plain": "<Figure size 432x288 with 1 Axes>",
      "image/png": "[encoded data removed]"
     },
     "metadata": {},
     "output_type": "display_data"
    }
   ],
   "source": [
    "plt.plot(np.cumsum(pca.explained_variance_ratio_))"
   ],
   "metadata": {
    "collapsed": false,
    "pycharm": {
     "name": "#%%\n"
    }
   }
  },
  {
   "cell_type": "code",
   "execution_count": 20,
   "outputs": [],
   "source": [],
   "metadata": {
    "collapsed": false,
    "pycharm": {
     "name": "#%%\n"
    }
   }
  },
  {
   "cell_type": "code",
   "execution_count": null,
   "outputs": [],
   "source": [],
   "metadata": {
    "collapsed": false,
    "pycharm": {
     "name": "#%%\n"
    }
   }
  }
 ],
 "metadata": {
  "kernelspec": {
   "display_name": "Python 3",
   "language": "python",
   "name": "python3"
  },
  "language_info": {
   "codemirror_mode": {
    "name": "ipython",
    "version": 2
   },
   "file_extension": ".py",
   "mimetype": "text/x-python",
   "name": "python",
   "nbconvert_exporter": "python",
   "pygments_lexer": "ipython2",
   "version": "2.7.6"
  }
 },
 "nbformat": 4,
 "nbformat_minor": 0
}