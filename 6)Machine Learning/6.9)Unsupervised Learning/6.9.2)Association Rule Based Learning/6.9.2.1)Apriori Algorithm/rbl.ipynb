{
 "cells": [
  {
   "cell_type": "code",
   "execution_count": 2,
   "outputs": [],
   "source": [
    "import numpy as np\n",
    "import pandas as pd\n",
    "import seaborn as sns\n",
    "import matplotlib.pyplot as plt"
   ],
   "metadata": {
    "collapsed": false,
    "pycharm": {
     "name": "#%%\n"
    }
   }
  },
  {
   "cell_type": "code",
   "execution_count": 4,
   "outputs": [
    {
     "data": {
      "text/plain": "  InvoiceNo StockCode                          Description  Quantity  \\\n0    536365    85123A   WHITE HANGING HEART T-LIGHT HOLDER         6   \n1    536365     71053                  WHITE METAL LANTERN         6   \n2    536365    84406B       CREAM CUPID HEARTS COAT HANGER         8   \n3    536365    84029G  KNITTED UNION FLAG HOT WATER BOTTLE         6   \n4    536365    84029E       RED WOOLLY HOTTIE WHITE HEART.         6   \n\n      InvoiceDate  UnitPrice  CustomerID         Country  \n0  12/1/2010 8:26       2.55     17850.0  United Kingdom  \n1  12/1/2010 8:26       3.39     17850.0  United Kingdom  \n2  12/1/2010 8:26       2.75     17850.0  United Kingdom  \n3  12/1/2010 8:26       3.39     17850.0  United Kingdom  \n4  12/1/2010 8:26       3.39     17850.0  United Kingdom  ",
      "text/html": "<div>\n<style scoped>\n    .dataframe tbody tr th:only-of-type {\n        vertical-align: middle;\n    }\n\n    .dataframe tbody tr th {\n        vertical-align: top;\n    }\n\n    .dataframe thead th {\n        text-align: right;\n    }\n</style>\n<table border=\"1\" class=\"dataframe\">\n  <thead>\n    <tr style=\"text-align: right;\">\n      <th></th>\n      <th>InvoiceNo</th>\n      <th>StockCode</th>\n      <th>Description</th>\n      <th>Quantity</th>\n      <th>InvoiceDate</th>\n      <th>UnitPrice</th>\n      <th>CustomerID</th>\n      <th>Country</th>\n    </tr>\n  </thead>\n  <tbody>\n    <tr>\n      <th>0</th>\n      <td>536365</td>\n      <td>85123A</td>\n      <td>WHITE HANGING HEART T-LIGHT HOLDER</td>\n      <td>6</td>\n      <td>12/1/2010 8:26</td>\n      <td>2.55</td>\n      <td>17850.0</td>\n      <td>United Kingdom</td>\n    </tr>\n    <tr>\n      <th>1</th>\n      <td>536365</td>\n      <td>71053</td>\n      <td>WHITE METAL LANTERN</td>\n      <td>6</td>\n      <td>12/1/2010 8:26</td>\n      <td>3.39</td>\n      <td>17850.0</td>\n      <td>United Kingdom</td>\n    </tr>\n    <tr>\n      <th>2</th>\n      <td>536365</td>\n      <td>84406B</td>\n      <td>CREAM CUPID HEARTS COAT HANGER</td>\n      <td>8</td>\n      <td>12/1/2010 8:26</td>\n      <td>2.75</td>\n      <td>17850.0</td>\n      <td>United Kingdom</td>\n    </tr>\n    <tr>\n      <th>3</th>\n      <td>536365</td>\n      <td>84029G</td>\n      <td>KNITTED UNION FLAG HOT WATER BOTTLE</td>\n      <td>6</td>\n      <td>12/1/2010 8:26</td>\n      <td>3.39</td>\n      <td>17850.0</td>\n      <td>United Kingdom</td>\n    </tr>\n    <tr>\n      <th>4</th>\n      <td>536365</td>\n      <td>84029E</td>\n      <td>RED WOOLLY HOTTIE WHITE HEART.</td>\n      <td>6</td>\n      <td>12/1/2010 8:26</td>\n      <td>3.39</td>\n      <td>17850.0</td>\n      <td>United Kingdom</td>\n    </tr>\n  </tbody>\n</table>\n</div>"
     },
     "execution_count": 4,
     "metadata": {},
     "output_type": "execute_result"
    }
   ],
   "source": [
    "from mlxtend.frequent_patterns import apriori\n",
    "from mlxtend.frequent_patterns import association_rules\n",
    "\n",
    "df = pd.read_csv(\"OnlineRetail.csv\",encoding='unicode_escape')\n",
    "df.head()"
   ],
   "metadata": {
    "collapsed": false,
    "pycharm": {
     "name": "#%%\n"
    }
   }
  },
  {
   "cell_type": "code",
   "execution_count": 5,
   "outputs": [
    {
     "name": "stdout",
     "output_type": "stream",
     "text": [
      "<class 'pandas.core.frame.DataFrame'>\n",
      "RangeIndex: 541909 entries, 0 to 541908\n",
      "Data columns (total 8 columns):\n",
      " #   Column       Non-Null Count   Dtype  \n",
      "---  ------       --------------   -----  \n",
      " 0   InvoiceNo    541909 non-null  object \n",
      " 1   StockCode    541909 non-null  object \n",
      " 2   Description  540455 non-null  object \n",
      " 3   Quantity     541909 non-null  int64  \n",
      " 4   InvoiceDate  541909 non-null  object \n",
      " 5   UnitPrice    541909 non-null  float64\n",
      " 6   CustomerID   406829 non-null  float64\n",
      " 7   Country      541909 non-null  object \n",
      "dtypes: float64(2), int64(1), object(5)\n",
      "memory usage: 33.1+ MB\n"
     ]
    }
   ],
   "source": [
    "df.info()"
   ],
   "metadata": {
    "collapsed": false,
    "pycharm": {
     "name": "#%%\n"
    }
   }
  },
  {
   "cell_type": "code",
   "execution_count": 6,
   "outputs": [
    {
     "data": {
      "text/plain": "InvoiceNo           0\nStockCode           0\nDescription      1454\nQuantity            0\nInvoiceDate         0\nUnitPrice           0\nCustomerID     135080\nCountry             0\ndtype: int64"
     },
     "execution_count": 6,
     "metadata": {},
     "output_type": "execute_result"
    }
   ],
   "source": [
    "df.isnull().sum()"
   ],
   "metadata": {
    "collapsed": false,
    "pycharm": {
     "name": "#%%\n"
    }
   }
  },
  {
   "cell_type": "code",
   "execution_count": 7,
   "outputs": [
    {
     "data": {
      "text/plain": "               count          mean          std       min       25%       50%  \\\nQuantity    541909.0      9.552250   218.081158 -80995.00      1.00      3.00   \nUnitPrice   541909.0      4.611114    96.759853 -11062.06      1.25      2.08   \nCustomerID  406829.0  15287.690570  1713.600303  12346.00  13953.00  15152.00   \n\n                 75%      max  \nQuantity       10.00  80995.0  \nUnitPrice       4.13  38970.0  \nCustomerID  16791.00  18287.0  ",
      "text/html": "<div>\n<style scoped>\n    .dataframe tbody tr th:only-of-type {\n        vertical-align: middle;\n    }\n\n    .dataframe tbody tr th {\n        vertical-align: top;\n    }\n\n    .dataframe thead th {\n        text-align: right;\n    }\n</style>\n<table border=\"1\" class=\"dataframe\">\n  <thead>\n    <tr style=\"text-align: right;\">\n      <th></th>\n      <th>count</th>\n      <th>mean</th>\n      <th>std</th>\n      <th>min</th>\n      <th>25%</th>\n      <th>50%</th>\n      <th>75%</th>\n      <th>max</th>\n    </tr>\n  </thead>\n  <tbody>\n    <tr>\n      <th>Quantity</th>\n      <td>541909.0</td>\n      <td>9.552250</td>\n      <td>218.081158</td>\n      <td>-80995.00</td>\n      <td>1.00</td>\n      <td>3.00</td>\n      <td>10.00</td>\n      <td>80995.0</td>\n    </tr>\n    <tr>\n      <th>UnitPrice</th>\n      <td>541909.0</td>\n      <td>4.611114</td>\n      <td>96.759853</td>\n      <td>-11062.06</td>\n      <td>1.25</td>\n      <td>2.08</td>\n      <td>4.13</td>\n      <td>38970.0</td>\n    </tr>\n    <tr>\n      <th>CustomerID</th>\n      <td>406829.0</td>\n      <td>15287.690570</td>\n      <td>1713.600303</td>\n      <td>12346.00</td>\n      <td>13953.00</td>\n      <td>15152.00</td>\n      <td>16791.00</td>\n      <td>18287.0</td>\n    </tr>\n  </tbody>\n</table>\n</div>"
     },
     "execution_count": 7,
     "metadata": {},
     "output_type": "execute_result"
    }
   ],
   "source": [
    "df.describe().T"
   ],
   "metadata": {
    "collapsed": false,
    "pycharm": {
     "name": "#%%\n"
    }
   }
  },
  {
   "cell_type": "code",
   "execution_count": 8,
   "outputs": [
    {
     "data": {
      "text/plain": "               count          mean          std       min        0%        5%  \\\nQuantity    541909.0      8.519687   154.626855 -80995.00 -80995.00      1.00   \nUnitPrice   541909.0      3.327278    21.652615 -11062.06 -11062.06      0.42   \nCustomerID  406829.0  15287.690570  1713.600303  12346.00  12346.00  12626.00   \n\n                 50%       95%      99%       100%        max  \nQuantity        3.00     29.00    100.0    253.000    253.000  \nUnitPrice       2.08      9.95     18.0     44.715     44.715  \nCustomerID  15152.00  17905.00  18212.0  18287.000  18287.000  ",
      "text/html": "<div>\n<style scoped>\n    .dataframe tbody tr th:only-of-type {\n        vertical-align: middle;\n    }\n\n    .dataframe tbody tr th {\n        vertical-align: top;\n    }\n\n    .dataframe thead th {\n        text-align: right;\n    }\n</style>\n<table border=\"1\" class=\"dataframe\">\n  <thead>\n    <tr style=\"text-align: right;\">\n      <th></th>\n      <th>count</th>\n      <th>mean</th>\n      <th>std</th>\n      <th>min</th>\n      <th>0%</th>\n      <th>5%</th>\n      <th>50%</th>\n      <th>95%</th>\n      <th>99%</th>\n      <th>100%</th>\n      <th>max</th>\n    </tr>\n  </thead>\n  <tbody>\n    <tr>\n      <th>Quantity</th>\n      <td>541909.0</td>\n      <td>8.519687</td>\n      <td>154.626855</td>\n      <td>-80995.00</td>\n      <td>-80995.00</td>\n      <td>1.00</td>\n      <td>3.00</td>\n      <td>29.00</td>\n      <td>100.0</td>\n      <td>253.000</td>\n      <td>253.000</td>\n    </tr>\n    <tr>\n      <th>UnitPrice</th>\n      <td>541909.0</td>\n      <td>3.327278</td>\n      <td>21.652615</td>\n      <td>-11062.06</td>\n      <td>-11062.06</td>\n      <td>0.42</td>\n      <td>2.08</td>\n      <td>9.95</td>\n      <td>18.0</td>\n      <td>44.715</td>\n      <td>44.715</td>\n    </tr>\n    <tr>\n      <th>CustomerID</th>\n      <td>406829.0</td>\n      <td>15287.690570</td>\n      <td>1713.600303</td>\n      <td>12346.00</td>\n      <td>12346.00</td>\n      <td>12626.00</td>\n      <td>15152.00</td>\n      <td>17905.00</td>\n      <td>18212.0</td>\n      <td>18287.000</td>\n      <td>18287.000</td>\n    </tr>\n  </tbody>\n</table>\n</div>"
     },
     "execution_count": 8,
     "metadata": {},
     "output_type": "execute_result"
    }
   ],
   "source": [
    "def outlier_thresholds(dataframe, variable):\n",
    "    quartile1 = dataframe[variable].quantile(0.01)\n",
    "    quartile3 = dataframe[variable].quantile(0.99)\n",
    "    interquantile_range = quartile3 - quartile1\n",
    "    up_limit = quartile3 + 1.5 * interquantile_range\n",
    "    low_limit = quartile1 - 1.5 * interquantile_range\n",
    "    return low_limit, up_limit\n",
    "\n",
    "\n",
    "def replace_with_thresholds(dataframe, variable):\n",
    "    low_limit, up_limit = outlier_thresholds(dataframe, variable)\n",
    "    dataframe.loc[(dataframe[variable] > up_limit), variable] = up_limit\n",
    "\n",
    "replace_with_thresholds(df, \"Quantity\")\n",
    "replace_with_thresholds(df, \"UnitPrice\")\n",
    "\n",
    "df.describe([0, 0.05, 0.50, 0.95, 0.99, 1]).T"
   ],
   "metadata": {
    "collapsed": false,
    "pycharm": {
     "name": "#%%\n"
    }
   }
  },
  {
   "cell_type": "code",
   "execution_count": 9,
   "outputs": [],
   "source": [
    "df.dropna(axis=0, inplace=True)\n",
    "df[\"Description\"] = df[\"Description\"].str.strip(\" \")\n",
    "df = df[~df[\"InvoiceNo\"].str.contains(\"C\", na=False)]\n",
    "df = df[df[\"StockCode\"].apply(lambda x: str(x).isnumeric())]\n",
    "df = df[df[\"Quantity\"] > 0]"
   ],
   "metadata": {
    "collapsed": false,
    "pycharm": {
     "name": "#%%\n"
    }
   }
  },
  {
   "cell_type": "code",
   "execution_count": 10,
   "outputs": [
    {
     "data": {
      "text/plain": "Description  10 COLOUR SPACEBOY PEN  12 COLOURED PARTY BALLOONS  \\\nInvoiceNo                                                         \n536527                            0                           0   \n536840                            0                           0   \n536861                            0                           0   \n536983                            0                           0   \n537197                            0                           0   \n\nDescription  12 IVORY ROSE PEG PLACE SETTINGS  \\\nInvoiceNo                                       \n536527                                      0   \n536840                                      0   \n536861                                      0   \n536983                                      0   \n537197                                      0   \n\nDescription  12 MESSAGE CARDS WITH ENVELOPES  12 PENCIL SMALL TUBE WOODLAND  \nInvoiceNo                                                                    \n536527                                     0                              0  \n536840                                     0                              0  \n536861                                     0                              0  \n536983                                     0                              0  \n537197                                     0                              0  ",
      "text/html": "<div>\n<style scoped>\n    .dataframe tbody tr th:only-of-type {\n        vertical-align: middle;\n    }\n\n    .dataframe tbody tr th {\n        vertical-align: top;\n    }\n\n    .dataframe thead th {\n        text-align: right;\n    }\n</style>\n<table border=\"1\" class=\"dataframe\">\n  <thead>\n    <tr style=\"text-align: right;\">\n      <th>Description</th>\n      <th>10 COLOUR SPACEBOY PEN</th>\n      <th>12 COLOURED PARTY BALLOONS</th>\n      <th>12 IVORY ROSE PEG PLACE SETTINGS</th>\n      <th>12 MESSAGE CARDS WITH ENVELOPES</th>\n      <th>12 PENCIL SMALL TUBE WOODLAND</th>\n    </tr>\n    <tr>\n      <th>InvoiceNo</th>\n      <th></th>\n      <th></th>\n      <th></th>\n      <th></th>\n      <th></th>\n    </tr>\n  </thead>\n  <tbody>\n    <tr>\n      <th>536527</th>\n      <td>0</td>\n      <td>0</td>\n      <td>0</td>\n      <td>0</td>\n      <td>0</td>\n    </tr>\n    <tr>\n      <th>536840</th>\n      <td>0</td>\n      <td>0</td>\n      <td>0</td>\n      <td>0</td>\n      <td>0</td>\n    </tr>\n    <tr>\n      <th>536861</th>\n      <td>0</td>\n      <td>0</td>\n      <td>0</td>\n      <td>0</td>\n      <td>0</td>\n    </tr>\n    <tr>\n      <th>536983</th>\n      <td>0</td>\n      <td>0</td>\n      <td>0</td>\n      <td>0</td>\n      <td>0</td>\n    </tr>\n    <tr>\n      <th>537197</th>\n      <td>0</td>\n      <td>0</td>\n      <td>0</td>\n      <td>0</td>\n      <td>0</td>\n    </tr>\n  </tbody>\n</table>\n</div>"
     },
     "execution_count": 10,
     "metadata": {},
     "output_type": "execute_result"
    }
   ],
   "source": [
    "basket = (df[df[\"Country\"] == \"Germany\"]\n",
    "              .groupby([\"InvoiceNo\", \"Description\"])[\"Quantity\"]\n",
    "              .sum().unstack().fillna(0)\n",
    "              .applymap(lambda x: 1 if x > 0 else 0))\n",
    "basket.iloc[0:5, 0:5]"
   ],
   "metadata": {
    "collapsed": false,
    "pycharm": {
     "name": "#%%\n"
    }
   }
  },
  {
   "cell_type": "code",
   "execution_count": 11,
   "outputs": [],
   "source": [
    "frequent_itemsets = apriori(basket, min_support=0.02, use_colnames=True)"
   ],
   "metadata": {
    "collapsed": false,
    "pycharm": {
     "name": "#%%\n"
    }
   }
  },
  {
   "cell_type": "code",
   "execution_count": 12,
   "outputs": [
    {
     "data": {
      "text/plain": "    support                              itemsets\n0  0.024943              (10 COLOUR SPACEBOY PEN)\n1  0.022676       (12 PENCIL SMALL TUBE WOODLAND)\n2  0.020408       (12 PENCILS TALL TUBE WOODLAND)\n3  0.034014          (3 HOOK HANGER MAGIC GARDEN)\n4  0.043084  (3 PIECE SPACEBOY COOKIE CUTTER SET)",
      "text/html": "<div>\n<style scoped>\n    .dataframe tbody tr th:only-of-type {\n        vertical-align: middle;\n    }\n\n    .dataframe tbody tr th {\n        vertical-align: top;\n    }\n\n    .dataframe thead th {\n        text-align: right;\n    }\n</style>\n<table border=\"1\" class=\"dataframe\">\n  <thead>\n    <tr style=\"text-align: right;\">\n      <th></th>\n      <th>support</th>\n      <th>itemsets</th>\n    </tr>\n  </thead>\n  <tbody>\n    <tr>\n      <th>0</th>\n      <td>0.024943</td>\n      <td>(10 COLOUR SPACEBOY PEN)</td>\n    </tr>\n    <tr>\n      <th>1</th>\n      <td>0.022676</td>\n      <td>(12 PENCIL SMALL TUBE WOODLAND)</td>\n    </tr>\n    <tr>\n      <th>2</th>\n      <td>0.020408</td>\n      <td>(12 PENCILS TALL TUBE WOODLAND)</td>\n    </tr>\n    <tr>\n      <th>3</th>\n      <td>0.034014</td>\n      <td>(3 HOOK HANGER MAGIC GARDEN)</td>\n    </tr>\n    <tr>\n      <th>4</th>\n      <td>0.043084</td>\n      <td>(3 PIECE SPACEBOY COOKIE CUTTER SET)</td>\n    </tr>\n  </tbody>\n</table>\n</div>"
     },
     "execution_count": 12,
     "metadata": {},
     "output_type": "execute_result"
    }
   ],
   "source": [
    "frequent_itemsets.head()"
   ],
   "metadata": {
    "collapsed": false,
    "pycharm": {
     "name": "#%%\n"
    }
   }
  },
  {
   "cell_type": "code",
   "execution_count": 13,
   "outputs": [],
   "source": [
    "rules = association_rules(frequent_itemsets, metric=\"support\", min_threshold=0.01)"
   ],
   "metadata": {
    "collapsed": false,
    "pycharm": {
     "name": "#%%\n"
    }
   }
  },
  {
   "cell_type": "code",
   "execution_count": 15,
   "outputs": [
    {
     "data": {
      "text/plain": "<Figure size 432x288 with 1 Axes>",
      "image/png": "[encoded data removed]"
     },
     "metadata": {
      "needs_background": "light"
     },
     "output_type": "display_data"
    }
   ],
   "source": [
    "sns.scatterplot(x = \"support\", y = \"confidence\",\n",
    "                size = \"lift\", data = rules)\n",
    "plt.show()"
   ],
   "metadata": {
    "collapsed": false,
    "pycharm": {
     "name": "#%%\n"
    }
   }
  },
  {
   "cell_type": "code",
   "execution_count": 16,
   "outputs": [
    {
     "data": {
      "text/plain": "                            antecedents                           consequents  \\\n0  (3 PIECE SPACEBOY COOKIE CUTTER SET)  (ROUND SNACK BOXES SET OF4 WOODLAND)   \n1  (ROUND SNACK BOXES SET OF4 WOODLAND)  (3 PIECE SPACEBOY COOKIE CUTTER SET)   \n2               (BLUE HARMONICA IN BOX)              (6 RIBBONS RUSTIC CHARM)   \n3              (6 RIBBONS RUSTIC CHARM)               (BLUE HARMONICA IN BOX)   \n4         (CHARLOTTE BAG APPLES DESIGN)              (6 RIBBONS RUSTIC CHARM)   \n\n   antecedent support  consequent support   support  confidence      lift  \\\n0            0.043084            0.253968  0.022676    0.526316  2.072368   \n1            0.253968            0.043084  0.022676    0.089286  2.072368   \n2            0.049887            0.106576  0.020408    0.409091  3.838491   \n3            0.106576            0.049887  0.020408    0.191489  3.838491   \n4            0.068027            0.106576  0.020408    0.300000  2.814894   \n\n   leverage  conviction  \n0  0.011734    1.574956  \n1  0.011734    1.050731  \n2  0.015091    1.511948  \n3  0.015091    1.175140  \n4  0.013158    1.276320  ",
      "text/html": "<div>\n<style scoped>\n    .dataframe tbody tr th:only-of-type {\n        vertical-align: middle;\n    }\n\n    .dataframe tbody tr th {\n        vertical-align: top;\n    }\n\n    .dataframe thead th {\n        text-align: right;\n    }\n</style>\n<table border=\"1\" class=\"dataframe\">\n  <thead>\n    <tr style=\"text-align: right;\">\n      <th></th>\n      <th>antecedents</th>\n      <th>consequents</th>\n      <th>antecedent support</th>\n      <th>consequent support</th>\n      <th>support</th>\n      <th>confidence</th>\n      <th>lift</th>\n      <th>leverage</th>\n      <th>conviction</th>\n    </tr>\n  </thead>\n  <tbody>\n    <tr>\n      <th>0</th>\n      <td>(3 PIECE SPACEBOY COOKIE CUTTER SET)</td>\n      <td>(ROUND SNACK BOXES SET OF4 WOODLAND)</td>\n      <td>0.043084</td>\n      <td>0.253968</td>\n      <td>0.022676</td>\n      <td>0.526316</td>\n      <td>2.072368</td>\n      <td>0.011734</td>\n      <td>1.574956</td>\n    </tr>\n    <tr>\n      <th>1</th>\n      <td>(ROUND SNACK BOXES SET OF4 WOODLAND)</td>\n      <td>(3 PIECE SPACEBOY COOKIE CUTTER SET)</td>\n      <td>0.253968</td>\n      <td>0.043084</td>\n      <td>0.022676</td>\n      <td>0.089286</td>\n      <td>2.072368</td>\n      <td>0.011734</td>\n      <td>1.050731</td>\n    </tr>\n    <tr>\n      <th>2</th>\n      <td>(BLUE HARMONICA IN BOX)</td>\n      <td>(6 RIBBONS RUSTIC CHARM)</td>\n      <td>0.049887</td>\n      <td>0.106576</td>\n      <td>0.020408</td>\n      <td>0.409091</td>\n      <td>3.838491</td>\n      <td>0.015091</td>\n      <td>1.511948</td>\n    </tr>\n    <tr>\n      <th>3</th>\n      <td>(6 RIBBONS RUSTIC CHARM)</td>\n      <td>(BLUE HARMONICA IN BOX)</td>\n      <td>0.106576</td>\n      <td>0.049887</td>\n      <td>0.020408</td>\n      <td>0.191489</td>\n      <td>3.838491</td>\n      <td>0.015091</td>\n      <td>1.175140</td>\n    </tr>\n    <tr>\n      <th>4</th>\n      <td>(CHARLOTTE BAG APPLES DESIGN)</td>\n      <td>(6 RIBBONS RUSTIC CHARM)</td>\n      <td>0.068027</td>\n      <td>0.106576</td>\n      <td>0.020408</td>\n      <td>0.300000</td>\n      <td>2.814894</td>\n      <td>0.013158</td>\n      <td>1.276320</td>\n    </tr>\n  </tbody>\n</table>\n</div>"
     },
     "execution_count": 16,
     "metadata": {},
     "output_type": "execute_result"
    }
   ],
   "source": [
    "rules.head()"
   ],
   "metadata": {
    "collapsed": false,
    "pycharm": {
     "name": "#%%\n"
    }
   }
  },
  {
   "cell_type": "code",
   "execution_count": null,
   "outputs": [],
   "source": [],
   "metadata": {
    "collapsed": false,
    "pycharm": {
     "name": "#%%\n"
    }
   }
  }
 ],
 "metadata": {
  "kernelspec": {
   "display_name": "Python 3",
   "language": "python",
   "name": "python3"
  },
  "language_info": {
   "codemirror_mode": {
    "name": "ipython",
    "version": 2
   },
   "file_extension": ".py",
   "mimetype": "text/x-python",
   "name": "python",
   "nbconvert_exporter": "python",
   "pygments_lexer": "ipython2",
   "version": "2.7.6"
  }
 },
 "nbformat": 4,
 "nbformat_minor": 0
}